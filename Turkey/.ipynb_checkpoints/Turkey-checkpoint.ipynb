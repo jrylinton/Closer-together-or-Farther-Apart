{
 "cells": [
  {
   "cell_type": "code",
   "execution_count": 1,
   "metadata": {},
   "outputs": [],
   "source": [
    "import pandas as pd\n"
   ]
  },
  {
   "cell_type": "code",
   "execution_count": 2,
   "metadata": {},
   "outputs": [],
   "source": [
    "fileb=\"turkeybirth.csv\"\n",
    "filep=\"turkeypop.csv\"\n",
    "filed=\"turkeydeath.csv\"\n",
    "\n",
    "\n",
    "birth=pd.read_csv(fileb)\n",
    "pop=pd.read_csv(filep)\n",
    "death=pd.read_csv(filed)\n"
   ]
  },
  {
   "cell_type": "code",
   "execution_count": 3,
   "metadata": {},
   "outputs": [],
   "source": [
    "newbirth=birth.loc[0:69]\n",
    "pbirth=birth.loc[70:]\n",
    "newpop=pop.loc[0:69]\n",
    "ppop=pop.loc[70:]\n",
    "newdeath=death.loc[0:69]\n",
    "pdeath=death.loc[70:]\n",
    "newbirth=newbirth.drop(columns=[\" Annual % Change\"])\n",
    "newdeath=newdeath.drop(columns=[\" Annual % Change\"])\n",
    "newpop=newpop.drop(columns=[\" Annual % Change\"])\n",
    "bp=pd.merge(newbirth,newpop,how='left',on=\"date\")\n",
    "\n",
    "bp.head()\n",
    "\n",
    "bp[\"Total Number of Births\"]=((bp[\" Births per 1000 People\"]*bp[\" Population\"])/1000)\n",
    "\n",
    "bp.head()\n",
    "\n",
    "bpd=pd.merge(bp,newdeath,how='left',on='date')\n",
    "\n",
    "bpd.head()\n",
    "\n",
    "bpd[\"Total Number of Deaths\"]=((bpd[\" Deaths per 1000 People\"]*bpd[\" Population\"])/1000)\n",
    "bpd.head()\n",
    "bpd.insert(1,\"Country\",\"Turkey\")"
   ]
  },
  {
   "cell_type": "code",
   "execution_count": 4,
   "metadata": {},
   "outputs": [],
   "source": [
    "complete_turkey_df=bpd.to_csv(\"Complete Turkey DF.csv\")"
   ]
  },
  {
   "cell_type": "code",
   "execution_count": null,
   "metadata": {},
   "outputs": [],
   "source": []
  }
 ],
 "metadata": {
  "kernelspec": {
   "display_name": "Python 3",
   "language": "python",
   "name": "python3"
  },
  "language_info": {
   "codemirror_mode": {
    "name": "ipython",
    "version": 3
   },
   "file_extension": ".py",
   "mimetype": "text/x-python",
   "name": "python",
   "nbconvert_exporter": "python",
   "pygments_lexer": "ipython3",
   "version": "3.7.4"
  }
 },
 "nbformat": 4,
 "nbformat_minor": 2
}
