{
 "cells": [
  {
   "cell_type": "code",
   "execution_count": 3,
   "metadata": {},
   "outputs": [],
   "source": [
    "import pandas as pd\n"
   ]
  },
  {
   "cell_type": "code",
   "execution_count": 4,
   "metadata": {},
   "outputs": [],
   "source": [
    "fileb=\"turkeybirth.csv\"\n",
    "filep=\"turkeypop.csv\"\n",
    "filed=\"turkeydeath.csv\"\n",
    "\n",
    "\n",
    "birth=pd.read_csv(fileb)\n",
    "pop=pd.read_csv(filep)\n",
    "death=pd.read_csv(filed)\n"
   ]
  },
  {
   "cell_type": "code",
   "execution_count": 5,
   "metadata": {},
   "outputs": [
    {
     "data": {
      "text/html": [
       "<div>\n",
       "<style scoped>\n",
       "    .dataframe tbody tr th:only-of-type {\n",
       "        vertical-align: middle;\n",
       "    }\n",
       "\n",
       "    .dataframe tbody tr th {\n",
       "        vertical-align: top;\n",
       "    }\n",
       "\n",
       "    .dataframe thead th {\n",
       "        text-align: right;\n",
       "    }\n",
       "</style>\n",
       "<table border=\"1\" class=\"dataframe\">\n",
       "  <thead>\n",
       "    <tr style=\"text-align: right;\">\n",
       "      <th></th>\n",
       "      <th>date</th>\n",
       "      <th>Births per 1000 People</th>\n",
       "      <th>Population</th>\n",
       "      <th>Total Number of Births</th>\n",
       "      <th>Deaths per 1000 People</th>\n",
       "      <th>Total Number of Deaths</th>\n",
       "    </tr>\n",
       "  </thead>\n",
       "  <tbody>\n",
       "    <tr>\n",
       "      <td>0</td>\n",
       "      <td>12/31/50</td>\n",
       "      <td>50.736</td>\n",
       "      <td>21408399</td>\n",
       "      <td>1.086177e+06</td>\n",
       "      <td>25.497</td>\n",
       "      <td>545849.949303</td>\n",
       "    </tr>\n",
       "    <tr>\n",
       "      <td>1</td>\n",
       "      <td>12/31/51</td>\n",
       "      <td>50.270</td>\n",
       "      <td>21951215</td>\n",
       "      <td>1.103488e+06</td>\n",
       "      <td>25.034</td>\n",
       "      <td>549526.716310</td>\n",
       "    </tr>\n",
       "    <tr>\n",
       "      <td>2</td>\n",
       "      <td>12/31/52</td>\n",
       "      <td>49.803</td>\n",
       "      <td>22508953</td>\n",
       "      <td>1.121013e+06</td>\n",
       "      <td>24.570</td>\n",
       "      <td>553044.975210</td>\n",
       "    </tr>\n",
       "    <tr>\n",
       "      <td>3</td>\n",
       "      <td>12/31/53</td>\n",
       "      <td>49.336</td>\n",
       "      <td>23081587</td>\n",
       "      <td>1.138753e+06</td>\n",
       "      <td>24.106</td>\n",
       "      <td>556404.736222</td>\n",
       "    </tr>\n",
       "    <tr>\n",
       "      <td>4</td>\n",
       "      <td>12/31/54</td>\n",
       "      <td>48.869</td>\n",
       "      <td>23668922</td>\n",
       "      <td>1.156677e+06</td>\n",
       "      <td>23.642</td>\n",
       "      <td>559580.653924</td>\n",
       "    </tr>\n",
       "  </tbody>\n",
       "</table>\n",
       "</div>"
      ],
      "text/plain": [
       "       date   Births per 1000 People   Population  Total Number of Births  \\\n",
       "0  12/31/50                   50.736     21408399            1.086177e+06   \n",
       "1  12/31/51                   50.270     21951215            1.103488e+06   \n",
       "2  12/31/52                   49.803     22508953            1.121013e+06   \n",
       "3  12/31/53                   49.336     23081587            1.138753e+06   \n",
       "4  12/31/54                   48.869     23668922            1.156677e+06   \n",
       "\n",
       "    Deaths per 1000 People  Total Number of Deaths  \n",
       "0                   25.497           545849.949303  \n",
       "1                   25.034           549526.716310  \n",
       "2                   24.570           553044.975210  \n",
       "3                   24.106           556404.736222  \n",
       "4                   23.642           559580.653924  "
      ]
     },
     "execution_count": 5,
     "metadata": {},
     "output_type": "execute_result"
    }
   ],
   "source": [
    "newbirth=birth.loc[0:69]\n",
    "pbirth=birth.loc[70:]\n",
    "newpop=pop.loc[0:69]\n",
    "ppop=pop.loc[70:]\n",
    "newdeath=death.loc[0:69]\n",
    "pdeath=death.loc[70:]\n",
    "newbirth=newbirth.drop(columns=[\" Annual % Change\"])\n",
    "newdeath=newdeath.drop(columns=[\" Annual % Change\"])\n",
    "newpop=newpop.drop(columns=[\" Annual % Change\"])\n",
    "bp=pd.merge(newbirth,newpop,how='left',on=\"date\")\n",
    "\n",
    "bp.head()\n",
    "\n",
    "bp[\"Total Number of Births\"]=((bp[\" Births per 1000 People\"]*bp[\" Population\"])/1000)\n",
    "\n",
    "bp.head()\n",
    "\n",
    "bpd=pd.merge(bp,newdeath,how='left',on='date')\n",
    "\n",
    "bpd.head()\n",
    "\n",
    "bpd[\"Total Number of Deaths\"]=((bpd[\" Deaths per 1000 People\"]*bpd[\" Population\"])/1000)\n",
    "bpd.head()"
   ]
  },
  {
   "cell_type": "code",
   "execution_count": 7,
   "metadata": {},
   "outputs": [],
   "source": [
    "complete_turkey_df=bpd.to_json(\"Complete Turkey DF\")"
   ]
  },
  {
   "cell_type": "code",
   "execution_count": null,
   "metadata": {},
   "outputs": [],
   "source": []
  }
 ],
 "metadata": {
  "kernelspec": {
   "display_name": "Python 3",
   "language": "python",
   "name": "python3"
  },
  "language_info": {
   "codemirror_mode": {
    "name": "ipython",
    "version": 3
   },
   "file_extension": ".py",
   "mimetype": "text/x-python",
   "name": "python",
   "nbconvert_exporter": "python",
   "pygments_lexer": "ipython3",
   "version": "3.7.4"
  }
 },
 "nbformat": 4,
 "nbformat_minor": 2
}
