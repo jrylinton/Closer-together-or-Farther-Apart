{
 "cells": [
  {
   "cell_type": "code",
   "execution_count": 1,
   "metadata": {},
   "outputs": [],
   "source": [
    "import pandas as pd"
   ]
  },
  {
   "cell_type": "code",
   "execution_count": 2,
   "metadata": {},
   "outputs": [],
   "source": [
    "fileb=\"germanybirth.csv\"\n",
    "filep=\"germanypop.csv\"\n",
    "filed=\"germanydeath.csv\"\n",
    "\n",
    "\n",
    "birth=pd.read_csv(fileb)\n",
    "pop=pd.read_csv(filep)\n",
    "death=pd.read_csv(filed)"
   ]
  },
  {
   "cell_type": "code",
   "execution_count": 3,
   "metadata": {},
   "outputs": [
    {
     "data": {
      "text/html": [
       "<div>\n",
       "<style scoped>\n",
       "    .dataframe tbody tr th:only-of-type {\n",
       "        vertical-align: middle;\n",
       "    }\n",
       "\n",
       "    .dataframe tbody tr th {\n",
       "        vertical-align: top;\n",
       "    }\n",
       "\n",
       "    .dataframe thead th {\n",
       "        text-align: right;\n",
       "    }\n",
       "</style>\n",
       "<table border=\"1\" class=\"dataframe\">\n",
       "  <thead>\n",
       "    <tr style=\"text-align: right;\">\n",
       "      <th></th>\n",
       "      <th>date</th>\n",
       "      <th>Births per 1000 People</th>\n",
       "      <th>Population</th>\n",
       "      <th>Total Number of Births</th>\n",
       "      <th>Deaths per 1000 People</th>\n",
       "      <th>Total Number of Deaths</th>\n",
       "    </tr>\n",
       "  </thead>\n",
       "  <tbody>\n",
       "    <tr>\n",
       "      <td>0</td>\n",
       "      <td>12/31/50</td>\n",
       "      <td>15.130</td>\n",
       "      <td>69966243</td>\n",
       "      <td>1.058589e+06</td>\n",
       "      <td>10.876</td>\n",
       "      <td>760952.858868</td>\n",
       "    </tr>\n",
       "    <tr>\n",
       "      <td>1</td>\n",
       "      <td>12/31/51</td>\n",
       "      <td>15.314</td>\n",
       "      <td>70300010</td>\n",
       "      <td>1.076574e+06</td>\n",
       "      <td>10.957</td>\n",
       "      <td>770277.209570</td>\n",
       "    </tr>\n",
       "    <tr>\n",
       "      <td>2</td>\n",
       "      <td>12/31/52</td>\n",
       "      <td>15.497</td>\n",
       "      <td>70620277</td>\n",
       "      <td>1.094402e+06</td>\n",
       "      <td>11.039</td>\n",
       "      <td>779577.237803</td>\n",
       "    </tr>\n",
       "    <tr>\n",
       "      <td>3</td>\n",
       "      <td>12/31/53</td>\n",
       "      <td>15.681</td>\n",
       "      <td>70929844</td>\n",
       "      <td>1.112251e+06</td>\n",
       "      <td>11.121</td>\n",
       "      <td>788810.795124</td>\n",
       "    </tr>\n",
       "    <tr>\n",
       "      <td>4</td>\n",
       "      <td>12/31/54</td>\n",
       "      <td>15.865</td>\n",
       "      <td>71233392</td>\n",
       "      <td>1.130118e+06</td>\n",
       "      <td>11.203</td>\n",
       "      <td>798027.690576</td>\n",
       "    </tr>\n",
       "  </tbody>\n",
       "</table>\n",
       "</div>"
      ],
      "text/plain": [
       "       date   Births per 1000 People   Population  Total Number of Births  \\\n",
       "0  12/31/50                   15.130     69966243            1.058589e+06   \n",
       "1  12/31/51                   15.314     70300010            1.076574e+06   \n",
       "2  12/31/52                   15.497     70620277            1.094402e+06   \n",
       "3  12/31/53                   15.681     70929844            1.112251e+06   \n",
       "4  12/31/54                   15.865     71233392            1.130118e+06   \n",
       "\n",
       "    Deaths per 1000 People  Total Number of Deaths  \n",
       "0                   10.876           760952.858868  \n",
       "1                   10.957           770277.209570  \n",
       "2                   11.039           779577.237803  \n",
       "3                   11.121           788810.795124  \n",
       "4                   11.203           798027.690576  "
      ]
     },
     "execution_count": 3,
     "metadata": {},
     "output_type": "execute_result"
    }
   ],
   "source": [
    "newbirth=birth.loc[0:69]\n",
    "pbirth=birth.loc[70:]\n",
    "newpop=pop.loc[0:69]\n",
    "ppop=pop.loc[70:]\n",
    "newdeath=death.loc[0:69]\n",
    "pdeath=death.loc[70:]\n",
    "newbirth=newbirth.drop(columns=[\" Annual % Change\"])\n",
    "newdeath=newdeath.drop(columns=[\" Annual % Change\"])\n",
    "newpop=newpop.drop(columns=[\" Annual % Change\"])\n",
    "bp=pd.merge(newbirth,newpop,how='left',on=\"date\")\n",
    "\n",
    "bp.head()\n",
    "\n",
    "bp[\"Total Number of Births\"]=((bp[\" Births per 1000 People\"]*bp[\" Population\"])/1000)\n",
    "\n",
    "bp.head()\n",
    "\n",
    "bpd=pd.merge(bp,newdeath,how='left',on='date')\n",
    "\n",
    "bpd.head()\n",
    "\n",
    "bpd[\"Total Number of Deaths\"]=((bpd[\" Deaths per 1000 People\"]*bpd[\" Population\"])/1000)\n",
    "bpd.head()"
   ]
  },
  {
   "cell_type": "code",
   "execution_count": 4,
   "metadata": {},
   "outputs": [],
   "source": [
    "complete_germany_df=bpd.to_json(\"Complete Germany DF\")"
   ]
  },
  {
   "cell_type": "code",
   "execution_count": null,
   "metadata": {},
   "outputs": [],
   "source": []
  }
 ],
 "metadata": {
  "kernelspec": {
   "display_name": "Python 3",
   "language": "python",
   "name": "python3"
  },
  "language_info": {
   "codemirror_mode": {
    "name": "ipython",
    "version": 3
   },
   "file_extension": ".py",
   "mimetype": "text/x-python",
   "name": "python",
   "nbconvert_exporter": "python",
   "pygments_lexer": "ipython3",
   "version": "3.7.4"
  }
 },
 "nbformat": 4,
 "nbformat_minor": 2
}
