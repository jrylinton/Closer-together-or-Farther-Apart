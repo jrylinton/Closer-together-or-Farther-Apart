{
 "cells": [
  {
   "cell_type": "code",
   "execution_count": 1,
   "metadata": {},
   "outputs": [],
   "source": [
    "import pandas as pd"
   ]
  },
  {
   "cell_type": "code",
   "execution_count": 2,
   "metadata": {},
   "outputs": [],
   "source": [
    "fileb=\"ukbirth.csv\"\n",
    "filep=\"ukpop.csv\"\n",
    "filed=\"ukdeath.csv\"\n",
    "\n",
    "\n",
    "birth=pd.read_csv(fileb)\n",
    "pop=pd.read_csv(filep)\n",
    "death=pd.read_csv(filed)"
   ]
  },
  {
   "cell_type": "code",
   "execution_count": 3,
   "metadata": {},
   "outputs": [
    {
     "data": {
      "text/html": [
       "<div>\n",
       "<style scoped>\n",
       "    .dataframe tbody tr th:only-of-type {\n",
       "        vertical-align: middle;\n",
       "    }\n",
       "\n",
       "    .dataframe tbody tr th {\n",
       "        vertical-align: top;\n",
       "    }\n",
       "\n",
       "    .dataframe thead th {\n",
       "        text-align: right;\n",
       "    }\n",
       "</style>\n",
       "<table border=\"1\" class=\"dataframe\">\n",
       "  <thead>\n",
       "    <tr style=\"text-align: right;\">\n",
       "      <th></th>\n",
       "      <th>date</th>\n",
       "      <th>Births per 1000 People</th>\n",
       "      <th>Population</th>\n",
       "      <th>Total Number of Births</th>\n",
       "      <th>Deaths per 1000 People</th>\n",
       "      <th>Total Number of Deaths</th>\n",
       "    </tr>\n",
       "  </thead>\n",
       "  <tbody>\n",
       "    <tr>\n",
       "      <td>0</td>\n",
       "      <td>12/31/50</td>\n",
       "      <td>14.390</td>\n",
       "      <td>50616014</td>\n",
       "      <td>728364.441460</td>\n",
       "      <td>11.828</td>\n",
       "      <td>598686.213592</td>\n",
       "    </tr>\n",
       "    <tr>\n",
       "      <td>1</td>\n",
       "      <td>12/31/51</td>\n",
       "      <td>14.641</td>\n",
       "      <td>50601935</td>\n",
       "      <td>740862.930335</td>\n",
       "      <td>11.801</td>\n",
       "      <td>597153.434935</td>\n",
       "    </tr>\n",
       "    <tr>\n",
       "      <td>2</td>\n",
       "      <td>12/31/52</td>\n",
       "      <td>14.892</td>\n",
       "      <td>50651280</td>\n",
       "      <td>754298.861760</td>\n",
       "      <td>11.775</td>\n",
       "      <td>596418.822000</td>\n",
       "    </tr>\n",
       "    <tr>\n",
       "      <td>3</td>\n",
       "      <td>12/31/53</td>\n",
       "      <td>15.143</td>\n",
       "      <td>50750976</td>\n",
       "      <td>768522.029568</td>\n",
       "      <td>11.748</td>\n",
       "      <td>596222.466048</td>\n",
       "    </tr>\n",
       "    <tr>\n",
       "      <td>4</td>\n",
       "      <td>12/31/54</td>\n",
       "      <td>15.394</td>\n",
       "      <td>50890915</td>\n",
       "      <td>783414.745510</td>\n",
       "      <td>11.721</td>\n",
       "      <td>596492.414715</td>\n",
       "    </tr>\n",
       "  </tbody>\n",
       "</table>\n",
       "</div>"
      ],
      "text/plain": [
       "       date   Births per 1000 People   Population  Total Number of Births  \\\n",
       "0  12/31/50                   14.390     50616014           728364.441460   \n",
       "1  12/31/51                   14.641     50601935           740862.930335   \n",
       "2  12/31/52                   14.892     50651280           754298.861760   \n",
       "3  12/31/53                   15.143     50750976           768522.029568   \n",
       "4  12/31/54                   15.394     50890915           783414.745510   \n",
       "\n",
       "    Deaths per 1000 People  Total Number of Deaths  \n",
       "0                   11.828           598686.213592  \n",
       "1                   11.801           597153.434935  \n",
       "2                   11.775           596418.822000  \n",
       "3                   11.748           596222.466048  \n",
       "4                   11.721           596492.414715  "
      ]
     },
     "execution_count": 3,
     "metadata": {},
     "output_type": "execute_result"
    }
   ],
   "source": [
    "newbirth=birth.loc[0:69]\n",
    "pbirth=birth.loc[70:]\n",
    "newpop=pop.loc[0:69]\n",
    "ppop=pop.loc[70:]\n",
    "newdeath=death.loc[0:69]\n",
    "pdeath=death.loc[70:]\n",
    "newbirth=newbirth.drop(columns=[\" Annual % Change\"])\n",
    "newdeath=newdeath.drop(columns=[\" Annual % Change\"])\n",
    "newpop=newpop.drop(columns=[\" Annual % Change\"])\n",
    "bp=pd.merge(newbirth,newpop,how='left',on=\"date\")\n",
    "\n",
    "bp.head()\n",
    "\n",
    "bp[\"Total Number of Births\"]=((bp[\" Births per 1000 People\"]*bp[\" Population\"])/1000)\n",
    "\n",
    "bp.head()\n",
    "\n",
    "bpd=pd.merge(bp,newdeath,how='left',on='date')\n",
    "\n",
    "bpd.head()\n",
    "\n",
    "bpd[\"Total Number of Deaths\"]=((bpd[\" Deaths per 1000 People\"]*bpd[\" Population\"])/1000)\n",
    "bpd.head()"
   ]
  },
  {
   "cell_type": "code",
   "execution_count": 4,
   "metadata": {},
   "outputs": [],
   "source": [
    "complete_UK_df=bpd.to_json(\"Complete UK DF\")"
   ]
  },
  {
   "cell_type": "code",
   "execution_count": null,
   "metadata": {},
   "outputs": [],
   "source": []
  }
 ],
 "metadata": {
  "kernelspec": {
   "display_name": "Python 3",
   "language": "python",
   "name": "python3"
  },
  "language_info": {
   "codemirror_mode": {
    "name": "ipython",
    "version": 3
   },
   "file_extension": ".py",
   "mimetype": "text/x-python",
   "name": "python",
   "nbconvert_exporter": "python",
   "pygments_lexer": "ipython3",
   "version": "3.7.4"
  }
 },
 "nbformat": 4,
 "nbformat_minor": 2
}
