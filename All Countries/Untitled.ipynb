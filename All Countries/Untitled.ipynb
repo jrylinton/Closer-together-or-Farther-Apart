{
 "cells": [
  {
   "cell_type": "code",
   "execution_count": 1,
   "metadata": {},
   "outputs": [],
   "source": [
    "import pandas as pd"
   ]
  },
  {
   "cell_type": "code",
   "execution_count": 46,
   "metadata": {},
   "outputs": [],
   "source": [
    "fileus=\"US/Complete US DF.csv\"\n",
    "fileturkey=\"Turkey/Complete Turkey DF.csv\"\n",
    "filechina=\"China/Complete China DF.csv\"\n",
    "fileitaly=\"Italy/Complete Italy DF.csv\"\n",
    "filespain=\"Spain/Complete Spain DF.csv\"\n",
    "filefrance=\"France/Complete France DF.csv\"\n",
    "fileuk=\"United Kingdom/Complete UK DF.csv\"\n",
    "filegermany=\"Germany/Complete Germany DF.csv\"\n",
    "filerussia=\"Russia/Complete Russia DF.csv\"\n",
    "fileiran=\"Iran/Complete Iran DF.csv\"\n",
    "us=pd.read_csv(fileus)\n",
    "turkey=pd.read_csv(fileturkey)\n",
    "china=pd.read_csv(filechina)\n",
    "italy=pd.read_csv(fileitaly)\n",
    "spain=pd.read_csv(filespain)\n",
    "france=pd.read_csv(filefrance)\n",
    "uk=pd.read_csv(fileuk)\n",
    "germany=pd.read_csv(filegermany)\n",
    "russia=pd.read_csv(filerussia)\n",
    "iran=pd.read_csv(fileiran)"
   ]
  },
  {
   "cell_type": "code",
   "execution_count": 47,
   "metadata": {},
   "outputs": [
    {
     "name": "stderr",
     "output_type": "stream",
     "text": [
      "/opt/anaconda3/lib/python3.7/site-packages/ipykernel_launcher.py:2: FutureWarning: Sorting because non-concatenation axis is not aligned. A future version\n",
      "of pandas will change to not sort by default.\n",
      "\n",
      "To accept the future behavior, pass 'sort=False'.\n",
      "\n",
      "To retain the current behavior and silence the warning, pass 'sort=True'.\n",
      "\n",
      "  \n"
     ]
    }
   ],
   "source": [
    "dataframes=[us,turkey,china,italy,spain,france,uk,germany,russia,iran]\n",
    "together=pd.concat(dataframes)"
   ]
  },
  {
   "cell_type": "code",
   "execution_count": 48,
   "metadata": {},
   "outputs": [
    {
     "data": {
      "text/html": [
       "<div>\n",
       "<style scoped>\n",
       "    .dataframe tbody tr th:only-of-type {\n",
       "        vertical-align: middle;\n",
       "    }\n",
       "\n",
       "    .dataframe tbody tr th {\n",
       "        vertical-align: top;\n",
       "    }\n",
       "\n",
       "    .dataframe thead th {\n",
       "        text-align: right;\n",
       "    }\n",
       "</style>\n",
       "<table border=\"1\" class=\"dataframe\">\n",
       "  <thead>\n",
       "    <tr style=\"text-align: right;\">\n",
       "      <th></th>\n",
       "      <th>Births per 1000 People</th>\n",
       "      <th>Deaths per 1000 People</th>\n",
       "      <th>Population</th>\n",
       "      <th>Country</th>\n",
       "      <th>Divorces</th>\n",
       "      <th>Marriages</th>\n",
       "      <th>Total Number of Births</th>\n",
       "      <th>Total Number of Deaths</th>\n",
       "      <th>Unnamed: 0</th>\n",
       "      <th>date</th>\n",
       "    </tr>\n",
       "  </thead>\n",
       "  <tbody>\n",
       "    <tr>\n",
       "      <td>0</td>\n",
       "      <td>24.268</td>\n",
       "      <td>9.649</td>\n",
       "      <td>158804395</td>\n",
       "      <td>United States</td>\n",
       "      <td>385000.0</td>\n",
       "      <td>1667000.0</td>\n",
       "      <td>3.853865e+06</td>\n",
       "      <td>1.532304e+06</td>\n",
       "      <td>0</td>\n",
       "      <td>12/31/50</td>\n",
       "    </tr>\n",
       "    <tr>\n",
       "      <td>1</td>\n",
       "      <td>24.211</td>\n",
       "      <td>9.619</td>\n",
       "      <td>160872266</td>\n",
       "      <td>United States</td>\n",
       "      <td>381000.0</td>\n",
       "      <td>1595000.0</td>\n",
       "      <td>3.894878e+06</td>\n",
       "      <td>1.547430e+06</td>\n",
       "      <td>1</td>\n",
       "      <td>12/31/51</td>\n",
       "    </tr>\n",
       "    <tr>\n",
       "      <td>2</td>\n",
       "      <td>24.155</td>\n",
       "      <td>9.589</td>\n",
       "      <td>163266028</td>\n",
       "      <td>United States</td>\n",
       "      <td>392000.0</td>\n",
       "      <td>1539000.0</td>\n",
       "      <td>3.943691e+06</td>\n",
       "      <td>1.565558e+06</td>\n",
       "      <td>2</td>\n",
       "      <td>12/31/52</td>\n",
       "    </tr>\n",
       "    <tr>\n",
       "      <td>3</td>\n",
       "      <td>24.099</td>\n",
       "      <td>9.559</td>\n",
       "      <td>165910003</td>\n",
       "      <td>United States</td>\n",
       "      <td>390000.0</td>\n",
       "      <td>1546000.0</td>\n",
       "      <td>3.998265e+06</td>\n",
       "      <td>1.585934e+06</td>\n",
       "      <td>3</td>\n",
       "      <td>12/31/53</td>\n",
       "    </tr>\n",
       "    <tr>\n",
       "      <td>4</td>\n",
       "      <td>24.043</td>\n",
       "      <td>9.529</td>\n",
       "      <td>168736387</td>\n",
       "      <td>United States</td>\n",
       "      <td>379000.0</td>\n",
       "      <td>1490000.0</td>\n",
       "      <td>4.056929e+06</td>\n",
       "      <td>1.607889e+06</td>\n",
       "      <td>4</td>\n",
       "      <td>12/31/54</td>\n",
       "    </tr>\n",
       "  </tbody>\n",
       "</table>\n",
       "</div>"
      ],
      "text/plain": [
       "    Births per 1000 People   Deaths per 1000 People   Population  \\\n",
       "0                   24.268                    9.649    158804395   \n",
       "1                   24.211                    9.619    160872266   \n",
       "2                   24.155                    9.589    163266028   \n",
       "3                   24.099                    9.559    165910003   \n",
       "4                   24.043                    9.529    168736387   \n",
       "\n",
       "         Country  Divorces  Marriages  Total Number of Births  \\\n",
       "0  United States  385000.0  1667000.0            3.853865e+06   \n",
       "1  United States  381000.0  1595000.0            3.894878e+06   \n",
       "2  United States  392000.0  1539000.0            3.943691e+06   \n",
       "3  United States  390000.0  1546000.0            3.998265e+06   \n",
       "4  United States  379000.0  1490000.0            4.056929e+06   \n",
       "\n",
       "   Total Number of Deaths  Unnamed: 0      date  \n",
       "0            1.532304e+06           0  12/31/50  \n",
       "1            1.547430e+06           1  12/31/51  \n",
       "2            1.565558e+06           2  12/31/52  \n",
       "3            1.585934e+06           3  12/31/53  \n",
       "4            1.607889e+06           4  12/31/54  "
      ]
     },
     "execution_count": 48,
     "metadata": {},
     "output_type": "execute_result"
    }
   ],
   "source": [
    "together.head()\n"
   ]
  },
  {
   "cell_type": "code",
   "execution_count": 50,
   "metadata": {},
   "outputs": [],
   "source": [
    "countriescombined=together.to_csv(\"countriescombined.csv\")"
   ]
  },
  {
   "cell_type": "code",
   "execution_count": 35,
   "metadata": {},
   "outputs": [],
   "source": []
  },
  {
   "cell_type": "code",
   "execution_count": null,
   "metadata": {},
   "outputs": [],
   "source": []
  }
 ],
 "metadata": {
  "kernelspec": {
   "display_name": "Python 3",
   "language": "python",
   "name": "python3"
  },
  "language_info": {
   "codemirror_mode": {
    "name": "ipython",
    "version": 3
   },
   "file_extension": ".py",
   "mimetype": "text/x-python",
   "name": "python",
   "nbconvert_exporter": "python",
   "pygments_lexer": "ipython3",
   "version": "3.7.4"
  }
 },
 "nbformat": 4,
 "nbformat_minor": 2
}
