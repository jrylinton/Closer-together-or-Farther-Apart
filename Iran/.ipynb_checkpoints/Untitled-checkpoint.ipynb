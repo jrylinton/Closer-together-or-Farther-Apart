{
 "cells": [
  {
   "cell_type": "code",
   "execution_count": 1,
   "metadata": {},
   "outputs": [],
   "source": [
    "import pandas as pd"
   ]
  },
  {
   "cell_type": "code",
   "execution_count": 9,
   "metadata": {},
   "outputs": [],
   "source": [
    "fileb=\"iranbirth.csv\"\n",
    "filep=\"iranpop.csv\"\n",
    "filed=\"irandeath.csv\"\n",
    "\n",
    "\n",
    "birth=pd.read_csv(fileb)\n",
    "pop=pd.read_csv(filep)\n",
    "death=pd.read_csv(filed)"
   ]
  },
  {
   "cell_type": "code",
   "execution_count": 10,
   "metadata": {},
   "outputs": [
    {
     "data": {
      "text/html": [
       "<div>\n",
       "<style scoped>\n",
       "    .dataframe tbody tr th:only-of-type {\n",
       "        vertical-align: middle;\n",
       "    }\n",
       "\n",
       "    .dataframe tbody tr th {\n",
       "        vertical-align: top;\n",
       "    }\n",
       "\n",
       "    .dataframe thead th {\n",
       "        text-align: right;\n",
       "    }\n",
       "</style>\n",
       "<table border=\"1\" class=\"dataframe\">\n",
       "  <thead>\n",
       "    <tr style=\"text-align: right;\">\n",
       "      <th></th>\n",
       "      <th>date</th>\n",
       "      <th>Births per 1000 People</th>\n",
       "      <th>Population</th>\n",
       "      <th>Total Number of Births</th>\n",
       "      <th>Deaths per 1000 People</th>\n",
       "      <th>Total Number of Deaths</th>\n",
       "    </tr>\n",
       "  </thead>\n",
       "  <tbody>\n",
       "    <tr>\n",
       "      <td>0</td>\n",
       "      <td>12/31/50</td>\n",
       "      <td>51.723</td>\n",
       "      <td>17119265</td>\n",
       "      <td>885459.743595</td>\n",
       "      <td>28.710</td>\n",
       "      <td>491494.098150</td>\n",
       "    </tr>\n",
       "    <tr>\n",
       "      <td>1</td>\n",
       "      <td>12/31/51</td>\n",
       "      <td>51.382</td>\n",
       "      <td>17516679</td>\n",
       "      <td>900042.000378</td>\n",
       "      <td>28.071</td>\n",
       "      <td>491710.696209</td>\n",
       "    </tr>\n",
       "    <tr>\n",
       "      <td>2</td>\n",
       "      <td>12/31/52</td>\n",
       "      <td>51.040</td>\n",
       "      <td>17933502</td>\n",
       "      <td>915325.942080</td>\n",
       "      <td>27.433</td>\n",
       "      <td>491969.760366</td>\n",
       "    </tr>\n",
       "    <tr>\n",
       "      <td>3</td>\n",
       "      <td>12/31/53</td>\n",
       "      <td>50.698</td>\n",
       "      <td>18369051</td>\n",
       "      <td>931274.147598</td>\n",
       "      <td>26.795</td>\n",
       "      <td>492198.721545</td>\n",
       "    </tr>\n",
       "    <tr>\n",
       "      <td>4</td>\n",
       "      <td>12/31/54</td>\n",
       "      <td>50.356</td>\n",
       "      <td>18822757</td>\n",
       "      <td>947838.751492</td>\n",
       "      <td>26.157</td>\n",
       "      <td>492346.854849</td>\n",
       "    </tr>\n",
       "  </tbody>\n",
       "</table>\n",
       "</div>"
      ],
      "text/plain": [
       "       date   Births per 1000 People   Population  Total Number of Births  \\\n",
       "0  12/31/50                   51.723     17119265           885459.743595   \n",
       "1  12/31/51                   51.382     17516679           900042.000378   \n",
       "2  12/31/52                   51.040     17933502           915325.942080   \n",
       "3  12/31/53                   50.698     18369051           931274.147598   \n",
       "4  12/31/54                   50.356     18822757           947838.751492   \n",
       "\n",
       "    Deaths per 1000 People  Total Number of Deaths  \n",
       "0                   28.710           491494.098150  \n",
       "1                   28.071           491710.696209  \n",
       "2                   27.433           491969.760366  \n",
       "3                   26.795           492198.721545  \n",
       "4                   26.157           492346.854849  "
      ]
     },
     "execution_count": 10,
     "metadata": {},
     "output_type": "execute_result"
    }
   ],
   "source": [
    "newbirth=birth.loc[0:69]\n",
    "pbirth=birth.loc[70:]\n",
    "newpop=pop.loc[0:69]\n",
    "ppop=pop.loc[70:]\n",
    "newdeath=death.loc[0:69]\n",
    "pdeath=death.loc[70:]\n",
    "newbirth=newbirth.drop(columns=[\" Annual % Change\"])\n",
    "newdeath=newdeath.drop(columns=[\" Annual % Change\"])\n",
    "newpop=newpop.drop(columns=[\" Annual % Change\"])\n",
    "bp=pd.merge(newbirth,newpop,how='left',on=\"date\")\n",
    "\n",
    "bp.head()\n",
    "\n",
    "bp[\"Total Number of Births\"]=((bp[\" Births per 1000 People\"]*bp[\" Population\"])/1000)\n",
    "\n",
    "bp.head()\n",
    "\n",
    "bpd=pd.merge(bp,newdeath,how='left',on='date')\n",
    "\n",
    "bpd.head()\n",
    "\n",
    "bpd[\"Total Number of Deaths\"]=((bpd[\" Deaths per 1000 People\"]*bpd[\" Population\"])/1000)\n",
    "bpd.head()"
   ]
  },
  {
   "cell_type": "code",
   "execution_count": 11,
   "metadata": {},
   "outputs": [],
   "source": [
    "complete_iran_df=bpd.to_json(\"Complete Iran DF\")"
   ]
  },
  {
   "cell_type": "code",
   "execution_count": null,
   "metadata": {},
   "outputs": [],
   "source": []
  }
 ],
 "metadata": {
  "kernelspec": {
   "display_name": "Python 3",
   "language": "python",
   "name": "python3"
  },
  "language_info": {
   "codemirror_mode": {
    "name": "ipython",
    "version": 3
   },
   "file_extension": ".py",
   "mimetype": "text/x-python",
   "name": "python",
   "nbconvert_exporter": "python",
   "pygments_lexer": "ipython3",
   "version": "3.7.4"
  }
 },
 "nbformat": 4,
 "nbformat_minor": 2
}
