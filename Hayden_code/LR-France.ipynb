{
 "cells": [
  {
   "cell_type": "code",
   "execution_count": 1,
   "metadata": {},
   "outputs": [],
   "source": [
    "%matplotlib inline\n",
    "import matplotlib.pyplot as plt\n",
    "import numpy as np\n",
    "import pandas as pd"
   ]
  },
  {
   "cell_type": "code",
   "execution_count": 2,
   "metadata": {},
   "outputs": [
    {
     "data": {
      "text/html": [
       "<div>\n",
       "<style scoped>\n",
       "    .dataframe tbody tr th:only-of-type {\n",
       "        vertical-align: middle;\n",
       "    }\n",
       "\n",
       "    .dataframe tbody tr th {\n",
       "        vertical-align: top;\n",
       "    }\n",
       "\n",
       "    .dataframe thead th {\n",
       "        text-align: right;\n",
       "    }\n",
       "</style>\n",
       "<table border=\"1\" class=\"dataframe\">\n",
       "  <thead>\n",
       "    <tr style=\"text-align: right;\">\n",
       "      <th></th>\n",
       "      <th>Unnamed: 0</th>\n",
       "      <th>year</th>\n",
       "      <th>Country</th>\n",
       "      <th>Births_per_1000_People</th>\n",
       "      <th>Population</th>\n",
       "      <th>Total_Number_of_Births</th>\n",
       "      <th>Deaths_per_1000_People</th>\n",
       "      <th>Total_Number_of_Deaths</th>\n",
       "    </tr>\n",
       "  </thead>\n",
       "  <tbody>\n",
       "    <tr>\n",
       "      <th>0</th>\n",
       "      <td>0</td>\n",
       "      <td>1950</td>\n",
       "      <td>France</td>\n",
       "      <td>19.636</td>\n",
       "      <td>41833882</td>\n",
       "      <td>821450.1070</td>\n",
       "      <td>13.259</td>\n",
       "      <td>554675.4414</td>\n",
       "    </tr>\n",
       "    <tr>\n",
       "      <th>1</th>\n",
       "      <td>1</td>\n",
       "      <td>1951</td>\n",
       "      <td>France</td>\n",
       "      <td>19.461</td>\n",
       "      <td>42031191</td>\n",
       "      <td>817969.0081</td>\n",
       "      <td>13.077</td>\n",
       "      <td>549641.8847</td>\n",
       "    </tr>\n",
       "    <tr>\n",
       "      <th>2</th>\n",
       "      <td>2</td>\n",
       "      <td>1952</td>\n",
       "      <td>France</td>\n",
       "      <td>19.285</td>\n",
       "      <td>42315600</td>\n",
       "      <td>816056.3460</td>\n",
       "      <td>12.895</td>\n",
       "      <td>545659.6620</td>\n",
       "    </tr>\n",
       "    <tr>\n",
       "      <th>3</th>\n",
       "      <td>3</td>\n",
       "      <td>1953</td>\n",
       "      <td>France</td>\n",
       "      <td>19.109</td>\n",
       "      <td>42654662</td>\n",
       "      <td>815087.9362</td>\n",
       "      <td>12.713</td>\n",
       "      <td>542268.7180</td>\n",
       "    </tr>\n",
       "    <tr>\n",
       "      <th>4</th>\n",
       "      <td>4</td>\n",
       "      <td>1954</td>\n",
       "      <td>France</td>\n",
       "      <td>18.933</td>\n",
       "      <td>43024816</td>\n",
       "      <td>814588.8413</td>\n",
       "      <td>12.531</td>\n",
       "      <td>539143.9693</td>\n",
       "    </tr>\n",
       "  </tbody>\n",
       "</table>\n",
       "</div>"
      ],
      "text/plain": [
       "   Unnamed: 0  year Country  Births_per_1000_People  Population  \\\n",
       "0           0  1950  France                  19.636    41833882   \n",
       "1           1  1951  France                  19.461    42031191   \n",
       "2           2  1952  France                  19.285    42315600   \n",
       "3           3  1953  France                  19.109    42654662   \n",
       "4           4  1954  France                  18.933    43024816   \n",
       "\n",
       "   Total_Number_of_Births  Deaths_per_1000_People  Total_Number_of_Deaths  \n",
       "0             821450.1070                  13.259             554675.4414  \n",
       "1             817969.0081                  13.077             549641.8847  \n",
       "2             816056.3460                  12.895             545659.6620  \n",
       "3             815087.9362                  12.713             542268.7180  \n",
       "4             814588.8413                  12.531             539143.9693  "
      ]
     },
     "execution_count": 2,
     "metadata": {},
     "output_type": "execute_result"
    }
   ],
   "source": [
    "france = pd.read_csv('Complete France DF.csv')\n",
    "france.head()"
   ]
  },
  {
   "cell_type": "code",
   "execution_count": 3,
   "metadata": {},
   "outputs": [],
   "source": [
    "X = france.year.values.reshape(-1, 1)\n",
    "y = france.Deaths_per_1000_People.values.reshape(-1, 1)"
   ]
  },
  {
   "cell_type": "code",
   "execution_count": 4,
   "metadata": {},
   "outputs": [
    {
     "data": {
      "text/plain": [
       "<matplotlib.collections.PathCollection at 0x223a3b136a0>"
      ]
     },
     "execution_count": 4,
     "metadata": {},
     "output_type": "execute_result"
    },
    {
     "data": {
      "image/png": "[encoded data removed]",
      "text/plain": [
       "<Figure size 432x288 with 1 Axes>"
      ]
     },
     "metadata": {
      "needs_background": "light"
     },
     "output_type": "display_data"
    }
   ],
   "source": [
    "plt.scatter(X,y)"
   ]
  },
  {
   "cell_type": "code",
   "execution_count": 5,
   "metadata": {},
   "outputs": [
    {
     "data": {
      "text/plain": [
       "LinearRegression(copy_X=True, fit_intercept=True, n_jobs=None, normalize=False)"
      ]
     },
     "execution_count": 5,
     "metadata": {},
     "output_type": "execute_result"
    }
   ],
   "source": [
    "from sklearn.linear_model import LinearRegression\n",
    "\n",
    "model = LinearRegression()\n",
    "model"
   ]
  },
  {
   "cell_type": "code",
   "execution_count": 6,
   "metadata": {},
   "outputs": [
    {
     "data": {
      "text/plain": [
       "LinearRegression(copy_X=True, fit_intercept=True, n_jobs=None, normalize=False)"
      ]
     },
     "execution_count": 6,
     "metadata": {},
     "output_type": "execute_result"
    }
   ],
   "source": [
    "model.fit(X,y)"
   ]
  },
  {
   "cell_type": "code",
   "execution_count": 7,
   "metadata": {},
   "outputs": [
    {
     "name": "stdout",
     "output_type": "stream",
     "text": [
      "coefficients:  [[-0.05962876]]\n",
      "y-axis intercept:  [128.51633908]\n"
     ]
    }
   ],
   "source": [
    "print('coefficients: ', model.coef_)\n",
    "print('y-axis intercept: ', model.intercept_) "
   ]
  },
  {
   "cell_type": "code",
   "execution_count": 8,
   "metadata": {},
   "outputs": [
    {
     "data": {
      "text/plain": [
       "array([[8.06623602]])"
      ]
     },
     "execution_count": 8,
     "metadata": {},
     "output_type": "execute_result"
    }
   ],
   "source": [
    "y = (model.intercept_)+(model.coef_ * 2020)\n",
    "y"
   ]
  },
  {
   "cell_type": "code",
   "execution_count": 16,
   "metadata": {},
   "outputs": [
    {
     "data": {
      "text/html": [
       "<div>\n",
       "<style scoped>\n",
       "    .dataframe tbody tr th:only-of-type {\n",
       "        vertical-align: middle;\n",
       "    }\n",
       "\n",
       "    .dataframe tbody tr th {\n",
       "        vertical-align: top;\n",
       "    }\n",
       "\n",
       "    .dataframe thead th {\n",
       "        text-align: right;\n",
       "    }\n",
       "</style>\n",
       "<table border=\"1\" class=\"dataframe\">\n",
       "  <thead>\n",
       "    <tr style=\"text-align: right;\">\n",
       "      <th></th>\n",
       "      <th>Unnamed: 0</th>\n",
       "      <th>year</th>\n",
       "      <th>Country</th>\n",
       "      <th>Births_per_1000_People</th>\n",
       "      <th>Population</th>\n",
       "      <th>Total_Number_of_Births</th>\n",
       "      <th>Deaths_per_1000_People</th>\n",
       "      <th>Total_Number_of_Deaths</th>\n",
       "    </tr>\n",
       "  </thead>\n",
       "  <tbody>\n",
       "    <tr>\n",
       "      <th>54</th>\n",
       "      <td>54</td>\n",
       "      <td>2004</td>\n",
       "      <td>France</td>\n",
       "      <td>12.846</td>\n",
       "      <td>60697981</td>\n",
       "      <td>779726.2639</td>\n",
       "      <td>8.860</td>\n",
       "      <td>537784.1117</td>\n",
       "    </tr>\n",
       "    <tr>\n",
       "      <th>55</th>\n",
       "      <td>55</td>\n",
       "      <td>2005</td>\n",
       "      <td>France</td>\n",
       "      <td>12.840</td>\n",
       "      <td>61120127</td>\n",
       "      <td>784782.4307</td>\n",
       "      <td>8.792</td>\n",
       "      <td>537368.1566</td>\n",
       "    </tr>\n",
       "    <tr>\n",
       "      <th>56</th>\n",
       "      <td>56</td>\n",
       "      <td>2006</td>\n",
       "      <td>France</td>\n",
       "      <td>12.835</td>\n",
       "      <td>61508926</td>\n",
       "      <td>789467.0652</td>\n",
       "      <td>8.723</td>\n",
       "      <td>536542.3615</td>\n",
       "    </tr>\n",
       "    <tr>\n",
       "      <th>57</th>\n",
       "      <td>57</td>\n",
       "      <td>2007</td>\n",
       "      <td>France</td>\n",
       "      <td>12.829</td>\n",
       "      <td>61869227</td>\n",
       "      <td>793720.3132</td>\n",
       "      <td>8.655</td>\n",
       "      <td>535478.1597</td>\n",
       "    </tr>\n",
       "    <tr>\n",
       "      <th>58</th>\n",
       "      <td>58</td>\n",
       "      <td>2008</td>\n",
       "      <td>France</td>\n",
       "      <td>12.823</td>\n",
       "      <td>62209207</td>\n",
       "      <td>797708.6614</td>\n",
       "      <td>8.587</td>\n",
       "      <td>534190.4605</td>\n",
       "    </tr>\n",
       "  </tbody>\n",
       "</table>\n",
       "</div>"
      ],
      "text/plain": [
       "    Unnamed: 0  year Country  Births_per_1000_People  Population  \\\n",
       "54          54  2004  France                  12.846    60697981   \n",
       "55          55  2005  France                  12.840    61120127   \n",
       "56          56  2006  France                  12.835    61508926   \n",
       "57          57  2007  France                  12.829    61869227   \n",
       "58          58  2008  France                  12.823    62209207   \n",
       "\n",
       "    Total_Number_of_Births  Deaths_per_1000_People  Total_Number_of_Deaths  \n",
       "54             779726.2639                   8.860             537784.1117  \n",
       "55             784782.4307                   8.792             537368.1566  \n",
       "56             789467.0652                   8.723             536542.3615  \n",
       "57             793720.3132                   8.655             535478.1597  \n",
       "58             797708.6614                   8.587             534190.4605  "
      ]
     },
     "execution_count": 16,
     "metadata": {},
     "output_type": "execute_result"
    }
   ],
   "source": [
    "france_clean = france[france[\"year\"] > 2003]\n",
    "france_clean.head()"
   ]
  },
  {
   "cell_type": "code",
   "execution_count": 17,
   "metadata": {},
   "outputs": [],
   "source": [
    "X = france_clean.year.values.reshape(-1, 1)\n",
    "y = france_clean.Deaths_per_1000_People.values.reshape(-1, 1)"
   ]
  },
  {
   "cell_type": "code",
   "execution_count": 18,
   "metadata": {},
   "outputs": [
    {
     "data": {
      "text/plain": [
       "<matplotlib.collections.PathCollection at 0x223a61d10b8>"
      ]
     },
     "execution_count": 18,
     "metadata": {},
     "output_type": "execute_result"
    },
    {
     "data": {
      "image/png": "[encoded data removed]",
      "text/plain": [
       "<Figure size 432x288 with 1 Axes>"
      ]
     },
     "metadata": {
      "needs_background": "light"
     },
     "output_type": "display_data"
    }
   ],
   "source": [
    "plt.scatter(X,y)"
   ]
  },
  {
   "cell_type": "code",
   "execution_count": 19,
   "metadata": {},
   "outputs": [
    {
     "data": {
      "text/plain": [
       "LinearRegression(copy_X=True, fit_intercept=True, n_jobs=None, normalize=False)"
      ]
     },
     "execution_count": 19,
     "metadata": {},
     "output_type": "execute_result"
    }
   ],
   "source": [
    "model.fit(X,y)"
   ]
  },
  {
   "cell_type": "code",
   "execution_count": 20,
   "metadata": {},
   "outputs": [
    {
     "name": "stdout",
     "output_type": "stream",
     "text": [
      "coefficients:  [[0.03741176]]\n",
      "y-axis intercept:  [-66.40438971]\n"
     ]
    }
   ],
   "source": [
    "print('coefficients: ', model.coef_)\n",
    "print('y-axis intercept: ', model.intercept_) "
   ]
  },
  {
   "cell_type": "code",
   "execution_count": 21,
   "metadata": {},
   "outputs": [
    {
     "data": {
      "text/plain": [
       "array([[9.167375]])"
      ]
     },
     "execution_count": 21,
     "metadata": {},
     "output_type": "execute_result"
    }
   ],
   "source": [
    "y = (model.intercept_)+(model.coef_ * 2020)\n",
    "y"
   ]
  },
  {
   "cell_type": "code",
   "execution_count": null,
   "metadata": {},
   "outputs": [],
   "source": []
  }
 ],
 "metadata": {
  "kernelspec": {
   "display_name": "Python 3",
   "language": "python",
   "name": "python3"
  },
  "language_info": {
   "codemirror_mode": {
    "name": "ipython",
    "version": 3
   },
   "file_extension": ".py",
   "mimetype": "text/x-python",
   "name": "python",
   "nbconvert_exporter": "python",
   "pygments_lexer": "ipython3",
   "version": "3.6.9"
  }
 },
 "nbformat": 4,
 "nbformat_minor": 2
}
