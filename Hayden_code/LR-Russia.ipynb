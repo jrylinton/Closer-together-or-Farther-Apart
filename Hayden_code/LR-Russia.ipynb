{
 "cells": [
  {
   "cell_type": "code",
   "execution_count": 1,
   "metadata": {},
   "outputs": [],
   "source": [
    "%matplotlib inline\n",
    "import matplotlib.pyplot as plt\n",
    "import numpy as np\n",
    "import pandas as pd"
   ]
  },
  {
   "cell_type": "code",
   "execution_count": 2,
   "metadata": {},
   "outputs": [
    {
     "data": {
      "text/html": [
       "<div>\n",
       "<style scoped>\n",
       "    .dataframe tbody tr th:only-of-type {\n",
       "        vertical-align: middle;\n",
       "    }\n",
       "\n",
       "    .dataframe tbody tr th {\n",
       "        vertical-align: top;\n",
       "    }\n",
       "\n",
       "    .dataframe thead th {\n",
       "        text-align: right;\n",
       "    }\n",
       "</style>\n",
       "<table border=\"1\" class=\"dataframe\">\n",
       "  <thead>\n",
       "    <tr style=\"text-align: right;\">\n",
       "      <th></th>\n",
       "      <th>Unnamed: 0</th>\n",
       "      <th>year</th>\n",
       "      <th>Country</th>\n",
       "      <th>Births_per_1000_People</th>\n",
       "      <th>Population</th>\n",
       "      <th>Total_Number_of_Births</th>\n",
       "      <th>Deaths_per_1000_People</th>\n",
       "      <th>Total_Number_of_Deaths</th>\n",
       "    </tr>\n",
       "  </thead>\n",
       "  <tbody>\n",
       "    <tr>\n",
       "      <th>0</th>\n",
       "      <td>0</td>\n",
       "      <td>1950</td>\n",
       "      <td>Russia</td>\n",
       "      <td>27.646</td>\n",
       "      <td>102798657</td>\n",
       "      <td>2841971.671</td>\n",
       "      <td>12.260</td>\n",
       "      <td>1260311.535</td>\n",
       "    </tr>\n",
       "    <tr>\n",
       "      <th>1</th>\n",
       "      <td>1</td>\n",
       "      <td>1951</td>\n",
       "      <td>Russia</td>\n",
       "      <td>27.403</td>\n",
       "      <td>104304693</td>\n",
       "      <td>2858261.502</td>\n",
       "      <td>11.839</td>\n",
       "      <td>1234863.260</td>\n",
       "    </tr>\n",
       "    <tr>\n",
       "      <th>2</th>\n",
       "      <td>2</td>\n",
       "      <td>1952</td>\n",
       "      <td>Russia</td>\n",
       "      <td>27.161</td>\n",
       "      <td>105967080</td>\n",
       "      <td>2878171.860</td>\n",
       "      <td>11.418</td>\n",
       "      <td>1209932.119</td>\n",
       "    </tr>\n",
       "    <tr>\n",
       "      <th>3</th>\n",
       "      <td>3</td>\n",
       "      <td>1953</td>\n",
       "      <td>Russia</td>\n",
       "      <td>26.918</td>\n",
       "      <td>107727318</td>\n",
       "      <td>2899803.946</td>\n",
       "      <td>10.997</td>\n",
       "      <td>1184677.316</td>\n",
       "    </tr>\n",
       "    <tr>\n",
       "      <th>4</th>\n",
       "      <td>4</td>\n",
       "      <td>1954</td>\n",
       "      <td>Russia</td>\n",
       "      <td>26.675</td>\n",
       "      <td>109536494</td>\n",
       "      <td>2921885.977</td>\n",
       "      <td>10.576</td>\n",
       "      <td>1158457.961</td>\n",
       "    </tr>\n",
       "  </tbody>\n",
       "</table>\n",
       "</div>"
      ],
      "text/plain": [
       "   Unnamed: 0  year Country  Births_per_1000_People  Population  \\\n",
       "0           0  1950  Russia                  27.646   102798657   \n",
       "1           1  1951  Russia                  27.403   104304693   \n",
       "2           2  1952  Russia                  27.161   105967080   \n",
       "3           3  1953  Russia                  26.918   107727318   \n",
       "4           4  1954  Russia                  26.675   109536494   \n",
       "\n",
       "   Total_Number_of_Births  Deaths_per_1000_People  Total_Number_of_Deaths  \n",
       "0             2841971.671                  12.260             1260311.535  \n",
       "1             2858261.502                  11.839             1234863.260  \n",
       "2             2878171.860                  11.418             1209932.119  \n",
       "3             2899803.946                  10.997             1184677.316  \n",
       "4             2921885.977                  10.576             1158457.961  "
      ]
     },
     "execution_count": 2,
     "metadata": {},
     "output_type": "execute_result"
    }
   ],
   "source": [
    "russia = pd.read_csv('Complete Russia DF.csv')\n",
    "russia.head()"
   ]
  },
  {
   "cell_type": "code",
   "execution_count": 3,
   "metadata": {},
   "outputs": [],
   "source": [
    "X = russia.year.values.reshape(-1, 1)\n",
    "y = russia.Deaths_per_1000_People.values.reshape(-1, 1)"
   ]
  },
  {
   "cell_type": "code",
   "execution_count": 4,
   "metadata": {},
   "outputs": [
    {
     "data": {
      "text/plain": [
       "<matplotlib.collections.PathCollection at 0x2b621bc4588>"
      ]
     },
     "execution_count": 4,
     "metadata": {},
     "output_type": "execute_result"
    },
    {
     "data": {
      "image/png": "[encoded data removed]",
      "text/plain": [
       "<Figure size 432x288 with 1 Axes>"
      ]
     },
     "metadata": {
      "needs_background": "light"
     },
     "output_type": "display_data"
    }
   ],
   "source": [
    "plt.scatter(X,y)"
   ]
  },
  {
   "cell_type": "code",
   "execution_count": 5,
   "metadata": {},
   "outputs": [
    {
     "data": {
      "text/plain": [
       "LinearRegression(copy_X=True, fit_intercept=True, n_jobs=None, normalize=False)"
      ]
     },
     "execution_count": 5,
     "metadata": {},
     "output_type": "execute_result"
    }
   ],
   "source": [
    "from sklearn.linear_model import LinearRegression\n",
    "\n",
    "model = LinearRegression()\n",
    "model"
   ]
  },
  {
   "cell_type": "code",
   "execution_count": 6,
   "metadata": {},
   "outputs": [
    {
     "data": {
      "text/plain": [
       "LinearRegression(copy_X=True, fit_intercept=True, n_jobs=None, normalize=False)"
      ]
     },
     "execution_count": 6,
     "metadata": {},
     "output_type": "execute_result"
    }
   ],
   "source": [
    "model.fit(X,y)"
   ]
  },
  {
   "cell_type": "code",
   "execution_count": 7,
   "metadata": {},
   "outputs": [
    {
     "name": "stdout",
     "output_type": "stream",
     "text": [
      "coefficients:  [[0.09322694]]\n",
      "y-axis intercept:  [-173.30972806]\n"
     ]
    }
   ],
   "source": [
    "print('coefficients: ', model.coef_)\n",
    "print('y-axis intercept: ', model.intercept_) "
   ]
  },
  {
   "cell_type": "code",
   "execution_count": 8,
   "metadata": {},
   "outputs": [
    {
     "data": {
      "text/plain": [
       "array([[15.00869938]])"
      ]
     },
     "execution_count": 8,
     "metadata": {},
     "output_type": "execute_result"
    }
   ],
   "source": [
    "y = (model.intercept_)+(model.coef_ * 2020)\n",
    "y"
   ]
  },
  {
   "cell_type": "code",
   "execution_count": 15,
   "metadata": {},
   "outputs": [
    {
     "data": {
      "text/html": [
       "<div>\n",
       "<style scoped>\n",
       "    .dataframe tbody tr th:only-of-type {\n",
       "        vertical-align: middle;\n",
       "    }\n",
       "\n",
       "    .dataframe tbody tr th {\n",
       "        vertical-align: top;\n",
       "    }\n",
       "\n",
       "    .dataframe thead th {\n",
       "        text-align: right;\n",
       "    }\n",
       "</style>\n",
       "<table border=\"1\" class=\"dataframe\">\n",
       "  <thead>\n",
       "    <tr style=\"text-align: right;\">\n",
       "      <th></th>\n",
       "      <th>Unnamed: 0</th>\n",
       "      <th>year</th>\n",
       "      <th>Country</th>\n",
       "      <th>Births_per_1000_People</th>\n",
       "      <th>Population</th>\n",
       "      <th>Total_Number_of_Births</th>\n",
       "      <th>Deaths_per_1000_People</th>\n",
       "      <th>Total_Number_of_Deaths</th>\n",
       "    </tr>\n",
       "  </thead>\n",
       "  <tbody>\n",
       "    <tr>\n",
       "      <th>54</th>\n",
       "      <td>54</td>\n",
       "      <td>2004</td>\n",
       "      <td>Russia</td>\n",
       "      <td>10.133</td>\n",
       "      <td>144080643</td>\n",
       "      <td>1459969.156</td>\n",
       "      <td>15.811</td>\n",
       "      <td>2278059.046</td>\n",
       "    </tr>\n",
       "    <tr>\n",
       "      <th>55</th>\n",
       "      <td>55</td>\n",
       "      <td>2005</td>\n",
       "      <td>Russia</td>\n",
       "      <td>10.455</td>\n",
       "      <td>143672116</td>\n",
       "      <td>1502091.973</td>\n",
       "      <td>15.590</td>\n",
       "      <td>2239848.288</td>\n",
       "    </tr>\n",
       "    <tr>\n",
       "      <th>56</th>\n",
       "      <td>56</td>\n",
       "      <td>2006</td>\n",
       "      <td>Russia</td>\n",
       "      <td>10.776</td>\n",
       "      <td>143403256</td>\n",
       "      <td>1545313.487</td>\n",
       "      <td>15.370</td>\n",
       "      <td>2204108.045</td>\n",
       "    </tr>\n",
       "    <tr>\n",
       "      <th>57</th>\n",
       "      <td>57</td>\n",
       "      <td>2007</td>\n",
       "      <td>Russia</td>\n",
       "      <td>11.098</td>\n",
       "      <td>143266212</td>\n",
       "      <td>1589968.421</td>\n",
       "      <td>15.149</td>\n",
       "      <td>2170339.846</td>\n",
       "    </tr>\n",
       "    <tr>\n",
       "      <th>58</th>\n",
       "      <td>58</td>\n",
       "      <td>2008</td>\n",
       "      <td>Russia</td>\n",
       "      <td>11.420</td>\n",
       "      <td>143248764</td>\n",
       "      <td>1635900.885</td>\n",
       "      <td>14.929</td>\n",
       "      <td>2138560.798</td>\n",
       "    </tr>\n",
       "  </tbody>\n",
       "</table>\n",
       "</div>"
      ],
      "text/plain": [
       "    Unnamed: 0  year Country  Births_per_1000_People  Population  \\\n",
       "54          54  2004  Russia                  10.133   144080643   \n",
       "55          55  2005  Russia                  10.455   143672116   \n",
       "56          56  2006  Russia                  10.776   143403256   \n",
       "57          57  2007  Russia                  11.098   143266212   \n",
       "58          58  2008  Russia                  11.420   143248764   \n",
       "\n",
       "    Total_Number_of_Births  Deaths_per_1000_People  Total_Number_of_Deaths  \n",
       "54             1459969.156                  15.811             2278059.046  \n",
       "55             1502091.973                  15.590             2239848.288  \n",
       "56             1545313.487                  15.370             2204108.045  \n",
       "57             1589968.421                  15.149             2170339.846  \n",
       "58             1635900.885                  14.929             2138560.798  "
      ]
     },
     "execution_count": 15,
     "metadata": {},
     "output_type": "execute_result"
    }
   ],
   "source": [
    "russia_clean = russia[russia[\"year\"] > 2003]\n",
    "russia_clean.head()"
   ]
  },
  {
   "cell_type": "code",
   "execution_count": 16,
   "metadata": {},
   "outputs": [],
   "source": [
    "X = russia_clean.year.values.reshape(-1, 1)\n",
    "y = russia_clean.Deaths_per_1000_People.values.reshape(-1, 1)"
   ]
  },
  {
   "cell_type": "code",
   "execution_count": 17,
   "metadata": {},
   "outputs": [
    {
     "data": {
      "text/plain": [
       "<matplotlib.collections.PathCollection at 0x2b62427aef0>"
      ]
     },
     "execution_count": 17,
     "metadata": {},
     "output_type": "execute_result"
    },
    {
     "data": {
      "image/png": "[encoded data removed]",
      "text/plain": [
       "<Figure size 432x288 with 1 Axes>"
      ]
     },
     "metadata": {
      "needs_background": "light"
     },
     "output_type": "display_data"
    }
   ],
   "source": [
    "plt.scatter(X,y)"
   ]
  },
  {
   "cell_type": "code",
   "execution_count": 18,
   "metadata": {},
   "outputs": [
    {
     "data": {
      "text/plain": [
       "LinearRegression(copy_X=True, fit_intercept=True, n_jobs=None, normalize=False)"
      ]
     },
     "execution_count": 18,
     "metadata": {},
     "output_type": "execute_result"
    }
   ],
   "source": [
    "model.fit(X,y)"
   ]
  },
  {
   "cell_type": "code",
   "execution_count": 19,
   "metadata": {},
   "outputs": [
    {
     "name": "stdout",
     "output_type": "stream",
     "text": [
      "coefficients:  [[-0.22415294]]\n",
      "y-axis intercept:  [464.92076618]\n"
     ]
    }
   ],
   "source": [
    "print('coefficients: ', model.coef_)\n",
    "print('y-axis intercept: ', model.intercept_) "
   ]
  },
  {
   "cell_type": "code",
   "execution_count": 20,
   "metadata": {},
   "outputs": [
    {
     "data": {
      "text/plain": [
       "array([[12.131825]])"
      ]
     },
     "execution_count": 20,
     "metadata": {},
     "output_type": "execute_result"
    }
   ],
   "source": [
    "y = (model.intercept_)+(model.coef_ * 2020)\n",
    "y"
   ]
  },
  {
   "cell_type": "code",
   "execution_count": null,
   "metadata": {},
   "outputs": [],
   "source": []
  }
 ],
 "metadata": {
  "kernelspec": {
   "display_name": "Python 3",
   "language": "python",
   "name": "python3"
  },
  "language_info": {
   "codemirror_mode": {
    "name": "ipython",
    "version": 3
   },
   "file_extension": ".py",
   "mimetype": "text/x-python",
   "name": "python",
   "nbconvert_exporter": "python",
   "pygments_lexer": "ipython3",
   "version": "3.6.9"
  }
 },
 "nbformat": 4,
 "nbformat_minor": 2
}
