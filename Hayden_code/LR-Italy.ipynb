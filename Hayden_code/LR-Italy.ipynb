{
 "cells": [
  {
   "cell_type": "code",
   "execution_count": 1,
   "metadata": {},
   "outputs": [],
   "source": [
    "%matplotlib inline\n",
    "import matplotlib.pyplot as plt\n",
    "import numpy as np\n",
    "import pandas as pd"
   ]
  },
  {
   "cell_type": "code",
   "execution_count": 2,
   "metadata": {},
   "outputs": [
    {
     "data": {
      "text/html": [
       "<div>\n",
       "<style scoped>\n",
       "    .dataframe tbody tr th:only-of-type {\n",
       "        vertical-align: middle;\n",
       "    }\n",
       "\n",
       "    .dataframe tbody tr th {\n",
       "        vertical-align: top;\n",
       "    }\n",
       "\n",
       "    .dataframe thead th {\n",
       "        text-align: right;\n",
       "    }\n",
       "</style>\n",
       "<table border=\"1\" class=\"dataframe\">\n",
       "  <thead>\n",
       "    <tr style=\"text-align: right;\">\n",
       "      <th></th>\n",
       "      <th>Unnamed: 0</th>\n",
       "      <th>year</th>\n",
       "      <th>Country</th>\n",
       "      <th>Births_per_1000_People</th>\n",
       "      <th>Population</th>\n",
       "      <th>Total_Number_of_Births</th>\n",
       "      <th>Deaths_per_1000_People</th>\n",
       "      <th>Total_Number_of_Deaths</th>\n",
       "    </tr>\n",
       "  </thead>\n",
       "  <tbody>\n",
       "    <tr>\n",
       "      <th>0</th>\n",
       "      <td>0</td>\n",
       "      <td>1950</td>\n",
       "      <td>Italy</td>\n",
       "      <td>18.607</td>\n",
       "      <td>46598601</td>\n",
       "      <td>867060.1688</td>\n",
       "      <td>10.003</td>\n",
       "      <td>466125.8058</td>\n",
       "    </tr>\n",
       "    <tr>\n",
       "      <th>1</th>\n",
       "      <td>1</td>\n",
       "      <td>1951</td>\n",
       "      <td>Italy</td>\n",
       "      <td>18.477</td>\n",
       "      <td>47009982</td>\n",
       "      <td>868603.4374</td>\n",
       "      <td>9.969</td>\n",
       "      <td>468642.5106</td>\n",
       "    </tr>\n",
       "    <tr>\n",
       "      <th>2</th>\n",
       "      <td>2</td>\n",
       "      <td>1952</td>\n",
       "      <td>Italy</td>\n",
       "      <td>18.346</td>\n",
       "      <td>47390568</td>\n",
       "      <td>869427.3605</td>\n",
       "      <td>9.935</td>\n",
       "      <td>470825.2931</td>\n",
       "    </tr>\n",
       "    <tr>\n",
       "      <th>3</th>\n",
       "      <td>3</td>\n",
       "      <td>1953</td>\n",
       "      <td>Italy</td>\n",
       "      <td>18.215</td>\n",
       "      <td>47737391</td>\n",
       "      <td>869536.5771</td>\n",
       "      <td>9.901</td>\n",
       "      <td>472647.9083</td>\n",
       "    </tr>\n",
       "    <tr>\n",
       "      <th>4</th>\n",
       "      <td>4</td>\n",
       "      <td>1954</td>\n",
       "      <td>Italy</td>\n",
       "      <td>18.084</td>\n",
       "      <td>48051033</td>\n",
       "      <td>868954.8808</td>\n",
       "      <td>9.867</td>\n",
       "      <td>474119.5426</td>\n",
       "    </tr>\n",
       "  </tbody>\n",
       "</table>\n",
       "</div>"
      ],
      "text/plain": [
       "   Unnamed: 0  year Country  Births_per_1000_People  Population  \\\n",
       "0           0  1950   Italy                  18.607    46598601   \n",
       "1           1  1951   Italy                  18.477    47009982   \n",
       "2           2  1952   Italy                  18.346    47390568   \n",
       "3           3  1953   Italy                  18.215    47737391   \n",
       "4           4  1954   Italy                  18.084    48051033   \n",
       "\n",
       "   Total_Number_of_Births  Deaths_per_1000_People  Total_Number_of_Deaths  \n",
       "0             867060.1688                  10.003             466125.8058  \n",
       "1             868603.4374                   9.969             468642.5106  \n",
       "2             869427.3605                   9.935             470825.2931  \n",
       "3             869536.5771                   9.901             472647.9083  \n",
       "4             868954.8808                   9.867             474119.5426  "
      ]
     },
     "execution_count": 2,
     "metadata": {},
     "output_type": "execute_result"
    }
   ],
   "source": [
    "italy = pd.read_csv('Complete Italy DF.csv')\n",
    "italy.head()"
   ]
  },
  {
   "cell_type": "code",
   "execution_count": 3,
   "metadata": {},
   "outputs": [],
   "source": [
    "X = italy.year.values.reshape(-1, 1)\n",
    "y = italy.Deaths_per_1000_People.values.reshape(-1, 1)"
   ]
  },
  {
   "cell_type": "code",
   "execution_count": 4,
   "metadata": {},
   "outputs": [
    {
     "data": {
      "text/plain": [
       "<matplotlib.collections.PathCollection at 0x1a8dcc755f8>"
      ]
     },
     "execution_count": 4,
     "metadata": {},
     "output_type": "execute_result"
    },
    {
     "data": {
      "image/png": "[encoded data removed]",
      "text/plain": [
       "<Figure size 432x288 with 1 Axes>"
      ]
     },
     "metadata": {
      "needs_background": "light"
     },
     "output_type": "display_data"
    }
   ],
   "source": [
    "plt.scatter(X,y)"
   ]
  },
  {
   "cell_type": "code",
   "execution_count": 5,
   "metadata": {},
   "outputs": [
    {
     "data": {
      "text/plain": [
       "LinearRegression(copy_X=True, fit_intercept=True, n_jobs=None, normalize=False)"
      ]
     },
     "execution_count": 5,
     "metadata": {},
     "output_type": "execute_result"
    }
   ],
   "source": [
    "from sklearn.linear_model import LinearRegression\n",
    "\n",
    "model = LinearRegression()\n",
    "model"
   ]
  },
  {
   "cell_type": "code",
   "execution_count": 6,
   "metadata": {},
   "outputs": [
    {
     "data": {
      "text/plain": [
       "LinearRegression(copy_X=True, fit_intercept=True, n_jobs=None, normalize=False)"
      ]
     },
     "execution_count": 6,
     "metadata": {},
     "output_type": "execute_result"
    }
   ],
   "source": [
    "model.fit(X,y)"
   ]
  },
  {
   "cell_type": "code",
   "execution_count": 7,
   "metadata": {},
   "outputs": [
    {
     "name": "stdout",
     "output_type": "stream",
     "text": [
      "coefficients:  [[0.0030549]]\n",
      "y-axis intercept:  [3.81487291]\n"
     ]
    }
   ],
   "source": [
    "print('coefficients: ', model.coef_)\n",
    "print('y-axis intercept: ', model.intercept_) "
   ]
  },
  {
   "cell_type": "code",
   "execution_count": 8,
   "metadata": {},
   "outputs": [
    {
     "data": {
      "text/plain": [
       "array([[9.98577764]])"
      ]
     },
     "execution_count": 8,
     "metadata": {},
     "output_type": "execute_result"
    }
   ],
   "source": [
    "y = (model.intercept_)+(model.coef_ * 2020)\n",
    "y"
   ]
  },
  {
   "cell_type": "code",
   "execution_count": 15,
   "metadata": {},
   "outputs": [
    {
     "data": {
      "text/html": [
       "<div>\n",
       "<style scoped>\n",
       "    .dataframe tbody tr th:only-of-type {\n",
       "        vertical-align: middle;\n",
       "    }\n",
       "\n",
       "    .dataframe tbody tr th {\n",
       "        vertical-align: top;\n",
       "    }\n",
       "\n",
       "    .dataframe thead th {\n",
       "        text-align: right;\n",
       "    }\n",
       "</style>\n",
       "<table border=\"1\" class=\"dataframe\">\n",
       "  <thead>\n",
       "    <tr style=\"text-align: right;\">\n",
       "      <th></th>\n",
       "      <th>Unnamed: 0</th>\n",
       "      <th>year</th>\n",
       "      <th>Country</th>\n",
       "      <th>Births_per_1000_People</th>\n",
       "      <th>Population</th>\n",
       "      <th>Total_Number_of_Births</th>\n",
       "      <th>Deaths_per_1000_People</th>\n",
       "      <th>Total_Number_of_Deaths</th>\n",
       "    </tr>\n",
       "  </thead>\n",
       "  <tbody>\n",
       "    <tr>\n",
       "      <th>54</th>\n",
       "      <td>54</td>\n",
       "      <td>2004</td>\n",
       "      <td>Italy</td>\n",
       "      <td>9.566</td>\n",
       "      <td>57948424</td>\n",
       "      <td>554334.6240</td>\n",
       "      <td>9.781</td>\n",
       "      <td>566793.5351</td>\n",
       "    </tr>\n",
       "    <tr>\n",
       "      <th>55</th>\n",
       "      <td>55</td>\n",
       "      <td>2005</td>\n",
       "      <td>Italy</td>\n",
       "      <td>9.603</td>\n",
       "      <td>58281212</td>\n",
       "      <td>559674.4788</td>\n",
       "      <td>9.770</td>\n",
       "      <td>569407.4412</td>\n",
       "    </tr>\n",
       "    <tr>\n",
       "      <th>56</th>\n",
       "      <td>56</td>\n",
       "      <td>2006</td>\n",
       "      <td>Italy</td>\n",
       "      <td>9.641</td>\n",
       "      <td>58542619</td>\n",
       "      <td>564409.3898</td>\n",
       "      <td>9.760</td>\n",
       "      <td>571375.9614</td>\n",
       "    </tr>\n",
       "    <tr>\n",
       "      <th>57</th>\n",
       "      <td>57</td>\n",
       "      <td>2007</td>\n",
       "      <td>Italy</td>\n",
       "      <td>9.678</td>\n",
       "      <td>58747861</td>\n",
       "      <td>568561.7988</td>\n",
       "      <td>9.749</td>\n",
       "      <td>572732.8969</td>\n",
       "    </tr>\n",
       "    <tr>\n",
       "      <th>58</th>\n",
       "      <td>58</td>\n",
       "      <td>2008</td>\n",
       "      <td>Italy</td>\n",
       "      <td>9.715</td>\n",
       "      <td>58922109</td>\n",
       "      <td>572428.2889</td>\n",
       "      <td>9.739</td>\n",
       "      <td>573842.4196</td>\n",
       "    </tr>\n",
       "  </tbody>\n",
       "</table>\n",
       "</div>"
      ],
      "text/plain": [
       "    Unnamed: 0  year Country  Births_per_1000_People  Population  \\\n",
       "54          54  2004   Italy                   9.566    57948424   \n",
       "55          55  2005   Italy                   9.603    58281212   \n",
       "56          56  2006   Italy                   9.641    58542619   \n",
       "57          57  2007   Italy                   9.678    58747861   \n",
       "58          58  2008   Italy                   9.715    58922109   \n",
       "\n",
       "    Total_Number_of_Births  Deaths_per_1000_People  Total_Number_of_Deaths  \n",
       "54             554334.6240                   9.781             566793.5351  \n",
       "55             559674.4788                   9.770             569407.4412  \n",
       "56             564409.3898                   9.760             571375.9614  \n",
       "57             568561.7988                   9.749             572732.8969  \n",
       "58             572428.2889                   9.739             573842.4196  "
      ]
     },
     "execution_count": 15,
     "metadata": {},
     "output_type": "execute_result"
    }
   ],
   "source": [
    "italy_clean = italy[italy[\"year\"] > 2003]\n",
    "italy_clean.head()"
   ]
  },
  {
   "cell_type": "code",
   "execution_count": 16,
   "metadata": {},
   "outputs": [],
   "source": [
    "X = italy_clean.year.values.reshape(-1, 1)\n",
    "y = italy_clean.Deaths_per_1000_People.values.reshape(-1, 1)"
   ]
  },
  {
   "cell_type": "code",
   "execution_count": 17,
   "metadata": {},
   "outputs": [
    {
     "data": {
      "text/plain": [
       "<matplotlib.collections.PathCollection at 0x1a8df324588>"
      ]
     },
     "execution_count": 17,
     "metadata": {},
     "output_type": "execute_result"
    },
    {
     "data": {
      "image/png": "[encoded data removed]",
      "text/plain": [
       "<Figure size 432x288 with 1 Axes>"
      ]
     },
     "metadata": {
      "needs_background": "light"
     },
     "output_type": "display_data"
    }
   ],
   "source": [
    "plt.scatter(X,y)"
   ]
  },
  {
   "cell_type": "code",
   "execution_count": 18,
   "metadata": {},
   "outputs": [
    {
     "data": {
      "text/plain": [
       "LinearRegression(copy_X=True, fit_intercept=True, n_jobs=None, normalize=False)"
      ]
     },
     "execution_count": 18,
     "metadata": {},
     "output_type": "execute_result"
    }
   ],
   "source": [
    "model.fit(X,y)"
   ]
  },
  {
   "cell_type": "code",
   "execution_count": 19,
   "metadata": {},
   "outputs": [
    {
     "name": "stdout",
     "output_type": "stream",
     "text": [
      "coefficients:  [[0.05818529]]\n",
      "y-axis intercept:  [-106.98534412]\n"
     ]
    }
   ],
   "source": [
    "print('coefficients: ', model.coef_)\n",
    "print('y-axis intercept: ', model.intercept_) "
   ]
  },
  {
   "cell_type": "code",
   "execution_count": 20,
   "metadata": {},
   "outputs": [
    {
     "data": {
      "text/plain": [
       "array([[10.54895]])"
      ]
     },
     "execution_count": 20,
     "metadata": {},
     "output_type": "execute_result"
    }
   ],
   "source": [
    "y = (model.intercept_)+(model.coef_ * 2020)\n",
    "y"
   ]
  },
  {
   "cell_type": "code",
   "execution_count": null,
   "metadata": {},
   "outputs": [],
   "source": []
  }
 ],
 "metadata": {
  "kernelspec": {
   "display_name": "Python 3",
   "language": "python",
   "name": "python3"
  },
  "language_info": {
   "codemirror_mode": {
    "name": "ipython",
    "version": 3
   },
   "file_extension": ".py",
   "mimetype": "text/x-python",
   "name": "python",
   "nbconvert_exporter": "python",
   "pygments_lexer": "ipython3",
   "version": "3.6.9"
  }
 },
 "nbformat": 4,
 "nbformat_minor": 2
}
