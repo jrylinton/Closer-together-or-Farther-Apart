{
 "cells": [
  {
   "cell_type": "code",
   "execution_count": 1,
   "metadata": {},
   "outputs": [],
   "source": [
    "%matplotlib inline\n",
    "import matplotlib.pyplot as plt\n",
    "import numpy as np\n",
    "import pandas as pd"
   ]
  },
  {
   "cell_type": "code",
   "execution_count": 2,
   "metadata": {},
   "outputs": [
    {
     "data": {
      "text/html": [
       "<div>\n",
       "<style scoped>\n",
       "    .dataframe tbody tr th:only-of-type {\n",
       "        vertical-align: middle;\n",
       "    }\n",
       "\n",
       "    .dataframe tbody tr th {\n",
       "        vertical-align: top;\n",
       "    }\n",
       "\n",
       "    .dataframe thead th {\n",
       "        text-align: right;\n",
       "    }\n",
       "</style>\n",
       "<table border=\"1\" class=\"dataframe\">\n",
       "  <thead>\n",
       "    <tr style=\"text-align: right;\">\n",
       "      <th></th>\n",
       "      <th>Unnamed: 0</th>\n",
       "      <th>year</th>\n",
       "      <th>Country</th>\n",
       "      <th>Births_per_1000_People</th>\n",
       "      <th>Population</th>\n",
       "      <th>Total_Number_of_Births</th>\n",
       "      <th>Deaths_per_1000_People</th>\n",
       "      <th>Total_Number_of_Deaths</th>\n",
       "      <th>Marriages</th>\n",
       "      <th>Divorces</th>\n",
       "    </tr>\n",
       "  </thead>\n",
       "  <tbody>\n",
       "    <tr>\n",
       "      <th>0</th>\n",
       "      <td>0</td>\n",
       "      <td>1950</td>\n",
       "      <td>United States</td>\n",
       "      <td>24.268</td>\n",
       "      <td>158804395</td>\n",
       "      <td>3853865.058</td>\n",
       "      <td>9.649</td>\n",
       "      <td>1532303.607</td>\n",
       "      <td>1667000.0</td>\n",
       "      <td>385000.0</td>\n",
       "    </tr>\n",
       "    <tr>\n",
       "      <th>1</th>\n",
       "      <td>1</td>\n",
       "      <td>1951</td>\n",
       "      <td>United States</td>\n",
       "      <td>24.211</td>\n",
       "      <td>160872266</td>\n",
       "      <td>3894878.432</td>\n",
       "      <td>9.619</td>\n",
       "      <td>1547430.327</td>\n",
       "      <td>1595000.0</td>\n",
       "      <td>381000.0</td>\n",
       "    </tr>\n",
       "    <tr>\n",
       "      <th>2</th>\n",
       "      <td>2</td>\n",
       "      <td>1952</td>\n",
       "      <td>United States</td>\n",
       "      <td>24.155</td>\n",
       "      <td>163266028</td>\n",
       "      <td>3943690.906</td>\n",
       "      <td>9.589</td>\n",
       "      <td>1565557.942</td>\n",
       "      <td>1539000.0</td>\n",
       "      <td>392000.0</td>\n",
       "    </tr>\n",
       "    <tr>\n",
       "      <th>3</th>\n",
       "      <td>3</td>\n",
       "      <td>1953</td>\n",
       "      <td>United States</td>\n",
       "      <td>24.099</td>\n",
       "      <td>165910003</td>\n",
       "      <td>3998265.162</td>\n",
       "      <td>9.559</td>\n",
       "      <td>1585933.719</td>\n",
       "      <td>1546000.0</td>\n",
       "      <td>390000.0</td>\n",
       "    </tr>\n",
       "    <tr>\n",
       "      <th>4</th>\n",
       "      <td>4</td>\n",
       "      <td>1954</td>\n",
       "      <td>United States</td>\n",
       "      <td>24.043</td>\n",
       "      <td>168736387</td>\n",
       "      <td>4056928.953</td>\n",
       "      <td>9.529</td>\n",
       "      <td>1607889.032</td>\n",
       "      <td>1490000.0</td>\n",
       "      <td>379000.0</td>\n",
       "    </tr>\n",
       "  </tbody>\n",
       "</table>\n",
       "</div>"
      ],
      "text/plain": [
       "   Unnamed: 0  year        Country  Births_per_1000_People  Population  \\\n",
       "0           0  1950  United States                  24.268   158804395   \n",
       "1           1  1951  United States                  24.211   160872266   \n",
       "2           2  1952  United States                  24.155   163266028   \n",
       "3           3  1953  United States                  24.099   165910003   \n",
       "4           4  1954  United States                  24.043   168736387   \n",
       "\n",
       "   Total_Number_of_Births  Deaths_per_1000_People  Total_Number_of_Deaths  \\\n",
       "0             3853865.058                   9.649             1532303.607   \n",
       "1             3894878.432                   9.619             1547430.327   \n",
       "2             3943690.906                   9.589             1565557.942   \n",
       "3             3998265.162                   9.559             1585933.719   \n",
       "4             4056928.953                   9.529             1607889.032   \n",
       "\n",
       "   Marriages  Divorces  \n",
       "0  1667000.0  385000.0  \n",
       "1  1595000.0  381000.0  \n",
       "2  1539000.0  392000.0  \n",
       "3  1546000.0  390000.0  \n",
       "4  1490000.0  379000.0  "
      ]
     },
     "execution_count": 2,
     "metadata": {},
     "output_type": "execute_result"
    }
   ],
   "source": [
    "usa = pd.read_csv('Complete US DF.csv')\n",
    "usa.head()"
   ]
  },
  {
   "cell_type": "code",
   "execution_count": 3,
   "metadata": {},
   "outputs": [],
   "source": [
    "X = usa.year.values.reshape(-1, 1)\n",
    "y = usa.Deaths_per_1000_People.values.reshape(-1, 1)"
   ]
  },
  {
   "cell_type": "code",
   "execution_count": 4,
   "metadata": {},
   "outputs": [
    {
     "data": {
      "text/plain": [
       "<matplotlib.collections.PathCollection at 0x19cc21366d8>"
      ]
     },
     "execution_count": 4,
     "metadata": {},
     "output_type": "execute_result"
    },
    {
     "data": {
      "image/png": "[encoded data removed]",
      "text/plain": [
       "<Figure size 432x288 with 1 Axes>"
      ]
     },
     "metadata": {
      "needs_background": "light"
     },
     "output_type": "display_data"
    }
   ],
   "source": [
    "plt.scatter(X,y)"
   ]
  },
  {
   "cell_type": "code",
   "execution_count": 5,
   "metadata": {},
   "outputs": [
    {
     "data": {
      "text/plain": [
       "LinearRegression(copy_X=True, fit_intercept=True, n_jobs=None, normalize=False)"
      ]
     },
     "execution_count": 5,
     "metadata": {},
     "output_type": "execute_result"
    }
   ],
   "source": [
    "from sklearn.linear_model import LinearRegression\n",
    "\n",
    "model = LinearRegression()\n",
    "model"
   ]
  },
  {
   "cell_type": "code",
   "execution_count": 6,
   "metadata": {},
   "outputs": [
    {
     "data": {
      "text/plain": [
       "LinearRegression(copy_X=True, fit_intercept=True, n_jobs=None, normalize=False)"
      ]
     },
     "execution_count": 6,
     "metadata": {},
     "output_type": "execute_result"
    }
   ],
   "source": [
    "model.fit(X,y)"
   ]
  },
  {
   "cell_type": "code",
   "execution_count": 7,
   "metadata": {},
   "outputs": [
    {
     "name": "stdout",
     "output_type": "stream",
     "text": [
      "coefficients:  [[-0.02159388]]\n",
      "y-axis intercept:  [51.79784752]\n"
     ]
    }
   ],
   "source": [
    "print('coefficients: ', model.coef_)\n",
    "print('y-axis intercept: ', model.intercept_) "
   ]
  },
  {
   "cell_type": "code",
   "execution_count": 8,
   "metadata": {},
   "outputs": [
    {
     "data": {
      "text/plain": [
       "array([[8.17821739]])"
      ]
     },
     "execution_count": 8,
     "metadata": {},
     "output_type": "execute_result"
    }
   ],
   "source": [
    "y = (model.intercept_)+(model.coef_ * 2020)\n",
    "y"
   ]
  },
  {
   "cell_type": "code",
   "execution_count": 15,
   "metadata": {},
   "outputs": [
    {
     "data": {
      "text/html": [
       "<div>\n",
       "<style scoped>\n",
       "    .dataframe tbody tr th:only-of-type {\n",
       "        vertical-align: middle;\n",
       "    }\n",
       "\n",
       "    .dataframe tbody tr th {\n",
       "        vertical-align: top;\n",
       "    }\n",
       "\n",
       "    .dataframe thead th {\n",
       "        text-align: right;\n",
       "    }\n",
       "</style>\n",
       "<table border=\"1\" class=\"dataframe\">\n",
       "  <thead>\n",
       "    <tr style=\"text-align: right;\">\n",
       "      <th></th>\n",
       "      <th>Unnamed: 0</th>\n",
       "      <th>year</th>\n",
       "      <th>Country</th>\n",
       "      <th>Births_per_1000_People</th>\n",
       "      <th>Population</th>\n",
       "      <th>Total_Number_of_Births</th>\n",
       "      <th>Deaths_per_1000_People</th>\n",
       "      <th>Total_Number_of_Deaths</th>\n",
       "      <th>Marriages</th>\n",
       "      <th>Divorces</th>\n",
       "    </tr>\n",
       "  </thead>\n",
       "  <tbody>\n",
       "    <tr>\n",
       "      <th>54</th>\n",
       "      <td>54</td>\n",
       "      <td>2004</td>\n",
       "      <td>United States</td>\n",
       "      <td>13.989</td>\n",
       "      <td>292354658</td>\n",
       "      <td>4089749.311</td>\n",
       "      <td>8.441</td>\n",
       "      <td>2467765.668</td>\n",
       "      <td>2279000.0</td>\n",
       "      <td>879000.0</td>\n",
       "    </tr>\n",
       "    <tr>\n",
       "      <th>55</th>\n",
       "      <td>55</td>\n",
       "      <td>2005</td>\n",
       "      <td>United States</td>\n",
       "      <td>13.945</td>\n",
       "      <td>294993511</td>\n",
       "      <td>4113684.511</td>\n",
       "      <td>8.362</td>\n",
       "      <td>2466735.739</td>\n",
       "      <td>2249000.0</td>\n",
       "      <td>847000.0</td>\n",
       "    </tr>\n",
       "    <tr>\n",
       "      <th>56</th>\n",
       "      <td>56</td>\n",
       "      <td>2006</td>\n",
       "      <td>United States</td>\n",
       "      <td>13.900</td>\n",
       "      <td>297758969</td>\n",
       "      <td>4138849.669</td>\n",
       "      <td>8.282</td>\n",
       "      <td>2466039.781</td>\n",
       "      <td>2193000.0</td>\n",
       "      <td>872000.0</td>\n",
       "    </tr>\n",
       "    <tr>\n",
       "      <th>57</th>\n",
       "      <td>57</td>\n",
       "      <td>2007</td>\n",
       "      <td>United States</td>\n",
       "      <td>13.856</td>\n",
       "      <td>300608429</td>\n",
       "      <td>4165230.392</td>\n",
       "      <td>8.203</td>\n",
       "      <td>2465890.943</td>\n",
       "      <td>2197000.0</td>\n",
       "      <td>856000.0</td>\n",
       "    </tr>\n",
       "    <tr>\n",
       "      <th>58</th>\n",
       "      <td>58</td>\n",
       "      <td>2008</td>\n",
       "      <td>United States</td>\n",
       "      <td>13.812</td>\n",
       "      <td>303486012</td>\n",
       "      <td>4191748.798</td>\n",
       "      <td>8.124</td>\n",
       "      <td>2465520.361</td>\n",
       "      <td>2157000.0</td>\n",
       "      <td>844000.0</td>\n",
       "    </tr>\n",
       "  </tbody>\n",
       "</table>\n",
       "</div>"
      ],
      "text/plain": [
       "    Unnamed: 0  year        Country  Births_per_1000_People  Population  \\\n",
       "54          54  2004  United States                  13.989   292354658   \n",
       "55          55  2005  United States                  13.945   294993511   \n",
       "56          56  2006  United States                  13.900   297758969   \n",
       "57          57  2007  United States                  13.856   300608429   \n",
       "58          58  2008  United States                  13.812   303486012   \n",
       "\n",
       "    Total_Number_of_Births  Deaths_per_1000_People  Total_Number_of_Deaths  \\\n",
       "54             4089749.311                   8.441             2467765.668   \n",
       "55             4113684.511                   8.362             2466735.739   \n",
       "56             4138849.669                   8.282             2466039.781   \n",
       "57             4165230.392                   8.203             2465890.943   \n",
       "58             4191748.798                   8.124             2465520.361   \n",
       "\n",
       "    Marriages  Divorces  \n",
       "54  2279000.0  879000.0  \n",
       "55  2249000.0  847000.0  \n",
       "56  2193000.0  872000.0  \n",
       "57  2197000.0  856000.0  \n",
       "58  2157000.0  844000.0  "
      ]
     },
     "execution_count": 15,
     "metadata": {},
     "output_type": "execute_result"
    }
   ],
   "source": [
    "usa_clean = usa[usa[\"year\"] > 2003]\n",
    "usa_clean.head()"
   ]
  },
  {
   "cell_type": "code",
   "execution_count": 16,
   "metadata": {},
   "outputs": [],
   "source": [
    "X = usa_clean.year.values.reshape(-1, 1)\n",
    "y = usa_clean.Deaths_per_1000_People.values.reshape(-1, 1)"
   ]
  },
  {
   "cell_type": "code",
   "execution_count": 17,
   "metadata": {},
   "outputs": [
    {
     "data": {
      "text/plain": [
       "<matplotlib.collections.PathCollection at 0x19cc47f60b8>"
      ]
     },
     "execution_count": 17,
     "metadata": {},
     "output_type": "execute_result"
    },
    {
     "data": {
      "image/png": "[encoded data removed]",
      "text/plain": [
       "<Figure size 432x288 with 1 Axes>"
      ]
     },
     "metadata": {
      "needs_background": "light"
     },
     "output_type": "display_data"
    }
   ],
   "source": [
    "plt.scatter(X,y)"
   ]
  },
  {
   "cell_type": "code",
   "execution_count": 18,
   "metadata": {},
   "outputs": [
    {
     "data": {
      "text/plain": [
       "LinearRegression(copy_X=True, fit_intercept=True, n_jobs=None, normalize=False)"
      ]
     },
     "execution_count": 18,
     "metadata": {},
     "output_type": "execute_result"
    }
   ],
   "source": [
    "model.fit(X,y)"
   ]
  },
  {
   "cell_type": "code",
   "execution_count": 19,
   "metadata": {},
   "outputs": [
    {
     "name": "stdout",
     "output_type": "stream",
     "text": [
      "coefficients:  [[0.02572059]]\n",
      "y-axis intercept:  [-43.40621324]\n"
     ]
    }
   ],
   "source": [
    "print('coefficients: ', model.coef_)\n",
    "print('y-axis intercept: ', model.intercept_) "
   ]
  },
  {
   "cell_type": "code",
   "execution_count": 20,
   "metadata": {},
   "outputs": [
    {
     "data": {
      "text/plain": [
       "array([[8.549375]])"
      ]
     },
     "execution_count": 20,
     "metadata": {},
     "output_type": "execute_result"
    }
   ],
   "source": [
    "y = (model.intercept_)+(model.coef_ * 2020)\n",
    "y"
   ]
  },
  {
   "cell_type": "code",
   "execution_count": null,
   "metadata": {},
   "outputs": [],
   "source": []
  },
  {
   "cell_type": "code",
   "execution_count": null,
   "metadata": {},
   "outputs": [],
   "source": []
  }
 ],
 "metadata": {
  "kernelspec": {
   "display_name": "Python 3",
   "language": "python",
   "name": "python3"
  },
  "language_info": {
   "codemirror_mode": {
    "name": "ipython",
    "version": 3
   },
   "file_extension": ".py",
   "mimetype": "text/x-python",
   "name": "python",
   "nbconvert_exporter": "python",
   "pygments_lexer": "ipython3",
   "version": "3.6.9"
  }
 },
 "nbformat": 4,
 "nbformat_minor": 2
}
