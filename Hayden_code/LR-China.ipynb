{
 "cells": [
  {
   "cell_type": "code",
   "execution_count": 1,
   "metadata": {},
   "outputs": [],
   "source": [
    "%matplotlib inline\n",
    "import matplotlib.pyplot as plt\n",
    "import numpy as np\n",
    "import pandas as pd"
   ]
  },
  {
   "cell_type": "code",
   "execution_count": 2,
   "metadata": {},
   "outputs": [
    {
     "data": {
      "text/html": [
       "<div>\n",
       "<style scoped>\n",
       "    .dataframe tbody tr th:only-of-type {\n",
       "        vertical-align: middle;\n",
       "    }\n",
       "\n",
       "    .dataframe tbody tr th {\n",
       "        vertical-align: top;\n",
       "    }\n",
       "\n",
       "    .dataframe thead th {\n",
       "        text-align: right;\n",
       "    }\n",
       "</style>\n",
       "<table border=\"1\" class=\"dataframe\">\n",
       "  <thead>\n",
       "    <tr style=\"text-align: right;\">\n",
       "      <th></th>\n",
       "      <th>Unnamed: 0</th>\n",
       "      <th>year</th>\n",
       "      <th>Country</th>\n",
       "      <th>Births_per_1000_People</th>\n",
       "      <th>Population</th>\n",
       "      <th>Total_Number_of_Births</th>\n",
       "      <th>Deaths_per_1000_People</th>\n",
       "      <th>Total_Number_of_Deaths</th>\n",
       "    </tr>\n",
       "  </thead>\n",
       "  <tbody>\n",
       "    <tr>\n",
       "      <th>0</th>\n",
       "      <td>0</td>\n",
       "      <td>1950</td>\n",
       "      <td>China</td>\n",
       "      <td>46.133</td>\n",
       "      <td>554419273</td>\n",
       "      <td>25577024.32</td>\n",
       "      <td>23.366</td>\n",
       "      <td>12954560.73</td>\n",
       "    </tr>\n",
       "    <tr>\n",
       "      <th>1</th>\n",
       "      <td>1</td>\n",
       "      <td>1951</td>\n",
       "      <td>China</td>\n",
       "      <td>44.921</td>\n",
       "      <td>569909117</td>\n",
       "      <td>25600887.44</td>\n",
       "      <td>23.106</td>\n",
       "      <td>13168320.06</td>\n",
       "    </tr>\n",
       "    <tr>\n",
       "      <th>2</th>\n",
       "      <td>2</td>\n",
       "      <td>1952</td>\n",
       "      <td>China</td>\n",
       "      <td>43.710</td>\n",
       "      <td>582576491</td>\n",
       "      <td>25464418.42</td>\n",
       "      <td>22.845</td>\n",
       "      <td>13308959.94</td>\n",
       "    </tr>\n",
       "    <tr>\n",
       "      <th>3</th>\n",
       "      <td>3</td>\n",
       "      <td>1953</td>\n",
       "      <td>China</td>\n",
       "      <td>42.498</td>\n",
       "      <td>593365877</td>\n",
       "      <td>25216863.04</td>\n",
       "      <td>22.585</td>\n",
       "      <td>13401168.33</td>\n",
       "    </tr>\n",
       "    <tr>\n",
       "      <th>4</th>\n",
       "      <td>4</td>\n",
       "      <td>1954</td>\n",
       "      <td>China</td>\n",
       "      <td>41.286</td>\n",
       "      <td>603052324</td>\n",
       "      <td>24897618.25</td>\n",
       "      <td>22.325</td>\n",
       "      <td>13463143.13</td>\n",
       "    </tr>\n",
       "  </tbody>\n",
       "</table>\n",
       "</div>"
      ],
      "text/plain": [
       "   Unnamed: 0  year Country  Births_per_1000_People  Population  \\\n",
       "0           0  1950   China                  46.133   554419273   \n",
       "1           1  1951   China                  44.921   569909117   \n",
       "2           2  1952   China                  43.710   582576491   \n",
       "3           3  1953   China                  42.498   593365877   \n",
       "4           4  1954   China                  41.286   603052324   \n",
       "\n",
       "   Total_Number_of_Births  Deaths_per_1000_People  Total_Number_of_Deaths  \n",
       "0             25577024.32                  23.366             12954560.73  \n",
       "1             25600887.44                  23.106             13168320.06  \n",
       "2             25464418.42                  22.845             13308959.94  \n",
       "3             25216863.04                  22.585             13401168.33  \n",
       "4             24897618.25                  22.325             13463143.13  "
      ]
     },
     "execution_count": 2,
     "metadata": {},
     "output_type": "execute_result"
    }
   ],
   "source": [
    "china = pd.read_csv('Complete China DF.csv')\n",
    "china.head()"
   ]
  },
  {
   "cell_type": "code",
   "execution_count": 3,
   "metadata": {},
   "outputs": [],
   "source": [
    "X = china.year.values.reshape(-1, 1)\n",
    "y = china.Deaths_per_1000_People.values.reshape(-1, 1)"
   ]
  },
  {
   "cell_type": "code",
   "execution_count": 4,
   "metadata": {},
   "outputs": [
    {
     "data": {
      "text/plain": [
       "<matplotlib.collections.PathCollection at 0x198979555f8>"
      ]
     },
     "execution_count": 4,
     "metadata": {},
     "output_type": "execute_result"
    },
    {
     "data": {
      "image/png": "[encoded data removed]",
      "text/plain": [
       "<Figure size 432x288 with 1 Axes>"
      ]
     },
     "metadata": {
      "needs_background": "light"
     },
     "output_type": "display_data"
    }
   ],
   "source": [
    "plt.scatter(X,y)"
   ]
  },
  {
   "cell_type": "code",
   "execution_count": 5,
   "metadata": {},
   "outputs": [
    {
     "data": {
      "text/plain": [
       "LinearRegression(copy_X=True, fit_intercept=True, n_jobs=None, normalize=False)"
      ]
     },
     "execution_count": 5,
     "metadata": {},
     "output_type": "execute_result"
    }
   ],
   "source": [
    "from sklearn.linear_model import LinearRegression\n",
    "\n",
    "model = LinearRegression()\n",
    "model"
   ]
  },
  {
   "cell_type": "code",
   "execution_count": 6,
   "metadata": {},
   "outputs": [
    {
     "data": {
      "text/plain": [
       "LinearRegression(copy_X=True, fit_intercept=True, n_jobs=None, normalize=False)"
      ]
     },
     "execution_count": 6,
     "metadata": {},
     "output_type": "execute_result"
    }
   ],
   "source": [
    "model.fit(X,y)"
   ]
  },
  {
   "cell_type": "code",
   "execution_count": 7,
   "metadata": {},
   "outputs": [
    {
     "name": "stdout",
     "output_type": "stream",
     "text": [
      "coefficients:  [[-0.24722738]]\n",
      "y-axis intercept:  [501.43489609]\n"
     ]
    }
   ],
   "source": [
    "print('coefficients: ', model.coef_)\n",
    "print('y-axis intercept: ', model.intercept_) "
   ]
  },
  {
   "cell_type": "code",
   "execution_count": 8,
   "metadata": {},
   "outputs": [
    {
     "data": {
      "text/plain": [
       "array([[2.03558509]])"
      ]
     },
     "execution_count": 8,
     "metadata": {},
     "output_type": "execute_result"
    }
   ],
   "source": [
    "y = (model.intercept_)+(model.coef_ * 2020)\n",
    "y"
   ]
  },
  {
   "cell_type": "code",
   "execution_count": 16,
   "metadata": {
    "scrolled": true
   },
   "outputs": [
    {
     "data": {
      "text/html": [
       "<div>\n",
       "<style scoped>\n",
       "    .dataframe tbody tr th:only-of-type {\n",
       "        vertical-align: middle;\n",
       "    }\n",
       "\n",
       "    .dataframe tbody tr th {\n",
       "        vertical-align: top;\n",
       "    }\n",
       "\n",
       "    .dataframe thead th {\n",
       "        text-align: right;\n",
       "    }\n",
       "</style>\n",
       "<table border=\"1\" class=\"dataframe\">\n",
       "  <thead>\n",
       "    <tr style=\"text-align: right;\">\n",
       "      <th></th>\n",
       "      <th>Unnamed: 0</th>\n",
       "      <th>year</th>\n",
       "      <th>Country</th>\n",
       "      <th>Births_per_1000_People</th>\n",
       "      <th>Population</th>\n",
       "      <th>Total_Number_of_Births</th>\n",
       "      <th>Deaths_per_1000_People</th>\n",
       "      <th>Total_Number_of_Deaths</th>\n",
       "    </tr>\n",
       "  </thead>\n",
       "  <tbody>\n",
       "    <tr>\n",
       "      <th>54</th>\n",
       "      <td>54</td>\n",
       "      <td>2004</td>\n",
       "      <td>China</td>\n",
       "      <td>13.028</td>\n",
       "      <td>1323084641</td>\n",
       "      <td>17237146.70</td>\n",
       "      <td>6.686</td>\n",
       "      <td>8846143.910</td>\n",
       "    </tr>\n",
       "    <tr>\n",
       "      <th>55</th>\n",
       "      <td>55</td>\n",
       "      <td>2005</td>\n",
       "      <td>China</td>\n",
       "      <td>12.973</td>\n",
       "      <td>1330776380</td>\n",
       "      <td>17264161.98</td>\n",
       "      <td>6.727</td>\n",
       "      <td>8952132.708</td>\n",
       "    </tr>\n",
       "    <tr>\n",
       "      <th>56</th>\n",
       "      <td>56</td>\n",
       "      <td>2006</td>\n",
       "      <td>China</td>\n",
       "      <td>12.917</td>\n",
       "      <td>1338408647</td>\n",
       "      <td>17288224.49</td>\n",
       "      <td>6.767</td>\n",
       "      <td>9057011.314</td>\n",
       "    </tr>\n",
       "    <tr>\n",
       "      <th>57</th>\n",
       "      <td>57</td>\n",
       "      <td>2007</td>\n",
       "      <td>China</td>\n",
       "      <td>12.862</td>\n",
       "      <td>1345993888</td>\n",
       "      <td>17312173.39</td>\n",
       "      <td>6.808</td>\n",
       "      <td>9163526.390</td>\n",
       "    </tr>\n",
       "    <tr>\n",
       "      <th>58</th>\n",
       "      <td>58</td>\n",
       "      <td>2008</td>\n",
       "      <td>China</td>\n",
       "      <td>12.807</td>\n",
       "      <td>1353569484</td>\n",
       "      <td>17335164.38</td>\n",
       "      <td>6.849</td>\n",
       "      <td>9270597.396</td>\n",
       "    </tr>\n",
       "  </tbody>\n",
       "</table>\n",
       "</div>"
      ],
      "text/plain": [
       "    Unnamed: 0  year Country  Births_per_1000_People  Population  \\\n",
       "54          54  2004   China                  13.028  1323084641   \n",
       "55          55  2005   China                  12.973  1330776380   \n",
       "56          56  2006   China                  12.917  1338408647   \n",
       "57          57  2007   China                  12.862  1345993888   \n",
       "58          58  2008   China                  12.807  1353569484   \n",
       "\n",
       "    Total_Number_of_Births  Deaths_per_1000_People  Total_Number_of_Deaths  \n",
       "54             17237146.70                   6.686             8846143.910  \n",
       "55             17264161.98                   6.727             8952132.708  \n",
       "56             17288224.49                   6.767             9057011.314  \n",
       "57             17312173.39                   6.808             9163526.390  \n",
       "58             17335164.38                   6.849             9270597.396  "
      ]
     },
     "execution_count": 16,
     "metadata": {},
     "output_type": "execute_result"
    }
   ],
   "source": [
    "china_clean = china[china[\"year\"] > 2003]\n",
    "china_clean.head()"
   ]
  },
  {
   "cell_type": "code",
   "execution_count": 17,
   "metadata": {},
   "outputs": [],
   "source": [
    "X = china_clean.year.values.reshape(-1, 1)\n",
    "y = china_clean.Deaths_per_1000_People.values.reshape(-1, 1)"
   ]
  },
  {
   "cell_type": "code",
   "execution_count": 18,
   "metadata": {},
   "outputs": [
    {
     "data": {
      "text/plain": [
       "<matplotlib.collections.PathCollection at 0x1989a00db38>"
      ]
     },
     "execution_count": 18,
     "metadata": {},
     "output_type": "execute_result"
    },
    {
     "data": {
      "image/png": "[encoded data removed]",
      "text/plain": [
       "<Figure size 432x288 with 1 Axes>"
      ]
     },
     "metadata": {
      "needs_background": "light"
     },
     "output_type": "display_data"
    }
   ],
   "source": [
    "plt.scatter(X,y)"
   ]
  },
  {
   "cell_type": "code",
   "execution_count": 19,
   "metadata": {},
   "outputs": [
    {
     "data": {
      "text/plain": [
       "LinearRegression(copy_X=True, fit_intercept=True, n_jobs=None, normalize=False)"
      ]
     },
     "execution_count": 19,
     "metadata": {},
     "output_type": "execute_result"
    }
   ],
   "source": [
    "from sklearn.linear_model import LinearRegression\n",
    "\n",
    "model = LinearRegression()\n",
    "model"
   ]
  },
  {
   "cell_type": "code",
   "execution_count": 20,
   "metadata": {},
   "outputs": [
    {
     "data": {
      "text/plain": [
       "LinearRegression(copy_X=True, fit_intercept=True, n_jobs=None, normalize=False)"
      ]
     },
     "execution_count": 20,
     "metadata": {},
     "output_type": "execute_result"
    }
   ],
   "source": [
    "model.fit(X,y)"
   ]
  },
  {
   "cell_type": "code",
   "execution_count": 21,
   "metadata": {},
   "outputs": [
    {
     "name": "stdout",
     "output_type": "stream",
     "text": [
      "coefficients:  [[0.03267647]]\n",
      "y-axis intercept:  [-58.78034559]\n"
     ]
    }
   ],
   "source": [
    "print('coefficients: ', model.coef_)\n",
    "print('y-axis intercept: ', model.intercept_) "
   ]
  },
  {
   "cell_type": "code",
   "execution_count": 22,
   "metadata": {},
   "outputs": [
    {
     "data": {
      "text/plain": [
       "array([[7.226125]])"
      ]
     },
     "execution_count": 22,
     "metadata": {},
     "output_type": "execute_result"
    }
   ],
   "source": [
    "y = (model.intercept_)+(model.coef_ * 2020)\n",
    "y"
   ]
  },
  {
   "cell_type": "code",
   "execution_count": null,
   "metadata": {},
   "outputs": [],
   "source": []
  }
 ],
 "metadata": {
  "kernelspec": {
   "display_name": "Python 3",
   "language": "python",
   "name": "python3"
  },
  "language_info": {
   "codemirror_mode": {
    "name": "ipython",
    "version": 3
   },
   "file_extension": ".py",
   "mimetype": "text/x-python",
   "name": "python",
   "nbconvert_exporter": "python",
   "pygments_lexer": "ipython3",
   "version": "3.6.9"
  }
 },
 "nbformat": 4,
 "nbformat_minor": 2
}
