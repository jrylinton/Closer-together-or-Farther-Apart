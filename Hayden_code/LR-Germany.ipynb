{
 "cells": [
  {
   "cell_type": "code",
   "execution_count": 1,
   "metadata": {},
   "outputs": [],
   "source": [
    "%matplotlib inline\n",
    "import matplotlib.pyplot as plt\n",
    "import numpy as np\n",
    "import pandas as pd"
   ]
  },
  {
   "cell_type": "code",
   "execution_count": 2,
   "metadata": {},
   "outputs": [
    {
     "data": {
      "text/html": [
       "<div>\n",
       "<style scoped>\n",
       "    .dataframe tbody tr th:only-of-type {\n",
       "        vertical-align: middle;\n",
       "    }\n",
       "\n",
       "    .dataframe tbody tr th {\n",
       "        vertical-align: top;\n",
       "    }\n",
       "\n",
       "    .dataframe thead th {\n",
       "        text-align: right;\n",
       "    }\n",
       "</style>\n",
       "<table border=\"1\" class=\"dataframe\">\n",
       "  <thead>\n",
       "    <tr style=\"text-align: right;\">\n",
       "      <th></th>\n",
       "      <th>Unnamed: 0</th>\n",
       "      <th>year</th>\n",
       "      <th>Country</th>\n",
       "      <th>Births_per_1000_People</th>\n",
       "      <th>Population</th>\n",
       "      <th>Total_Number_of_Births</th>\n",
       "      <th>Deaths_per_1000_People</th>\n",
       "      <th>Total_Number_of_Deaths</th>\n",
       "    </tr>\n",
       "  </thead>\n",
       "  <tbody>\n",
       "    <tr>\n",
       "      <th>0</th>\n",
       "      <td>0</td>\n",
       "      <td>1950</td>\n",
       "      <td>Germany</td>\n",
       "      <td>15.130</td>\n",
       "      <td>69966243</td>\n",
       "      <td>1058589.257</td>\n",
       "      <td>10.876</td>\n",
       "      <td>760952.8589</td>\n",
       "    </tr>\n",
       "    <tr>\n",
       "      <th>1</th>\n",
       "      <td>1</td>\n",
       "      <td>1951</td>\n",
       "      <td>Germany</td>\n",
       "      <td>15.314</td>\n",
       "      <td>70300010</td>\n",
       "      <td>1076574.353</td>\n",
       "      <td>10.957</td>\n",
       "      <td>770277.2096</td>\n",
       "    </tr>\n",
       "    <tr>\n",
       "      <th>2</th>\n",
       "      <td>2</td>\n",
       "      <td>1952</td>\n",
       "      <td>Germany</td>\n",
       "      <td>15.497</td>\n",
       "      <td>70620277</td>\n",
       "      <td>1094402.433</td>\n",
       "      <td>11.039</td>\n",
       "      <td>779577.2378</td>\n",
       "    </tr>\n",
       "    <tr>\n",
       "      <th>3</th>\n",
       "      <td>3</td>\n",
       "      <td>1953</td>\n",
       "      <td>Germany</td>\n",
       "      <td>15.681</td>\n",
       "      <td>70929844</td>\n",
       "      <td>1112250.884</td>\n",
       "      <td>11.121</td>\n",
       "      <td>788810.7951</td>\n",
       "    </tr>\n",
       "    <tr>\n",
       "      <th>4</th>\n",
       "      <td>4</td>\n",
       "      <td>1954</td>\n",
       "      <td>Germany</td>\n",
       "      <td>15.865</td>\n",
       "      <td>71233392</td>\n",
       "      <td>1130117.764</td>\n",
       "      <td>11.203</td>\n",
       "      <td>798027.6906</td>\n",
       "    </tr>\n",
       "  </tbody>\n",
       "</table>\n",
       "</div>"
      ],
      "text/plain": [
       "   Unnamed: 0  year  Country  Births_per_1000_People  Population  \\\n",
       "0           0  1950  Germany                  15.130    69966243   \n",
       "1           1  1951  Germany                  15.314    70300010   \n",
       "2           2  1952  Germany                  15.497    70620277   \n",
       "3           3  1953  Germany                  15.681    70929844   \n",
       "4           4  1954  Germany                  15.865    71233392   \n",
       "\n",
       "   Total_Number_of_Births  Deaths_per_1000_People  Total_Number_of_Deaths  \n",
       "0             1058589.257                  10.876             760952.8589  \n",
       "1             1076574.353                  10.957             770277.2096  \n",
       "2             1094402.433                  11.039             779577.2378  \n",
       "3             1112250.884                  11.121             788810.7951  \n",
       "4             1130117.764                  11.203             798027.6906  "
      ]
     },
     "execution_count": 2,
     "metadata": {},
     "output_type": "execute_result"
    }
   ],
   "source": [
    "germany = pd.read_csv('Complete Germany DF.csv')\n",
    "germany.head()"
   ]
  },
  {
   "cell_type": "code",
   "execution_count": 3,
   "metadata": {},
   "outputs": [],
   "source": [
    "X = germany.year.values.reshape(-1, 1)\n",
    "y = germany.Deaths_per_1000_People.values.reshape(-1, 1)"
   ]
  },
  {
   "cell_type": "code",
   "execution_count": 4,
   "metadata": {},
   "outputs": [
    {
     "data": {
      "text/plain": [
       "<matplotlib.collections.PathCollection at 0x206980c45c0>"
      ]
     },
     "execution_count": 4,
     "metadata": {},
     "output_type": "execute_result"
    },
    {
     "data": {
      "image/png": "[encoded data removed]",
      "text/plain": [
       "<Figure size 432x288 with 1 Axes>"
      ]
     },
     "metadata": {
      "needs_background": "light"
     },
     "output_type": "display_data"
    }
   ],
   "source": [
    "plt.scatter(X,y)"
   ]
  },
  {
   "cell_type": "code",
   "execution_count": 5,
   "metadata": {},
   "outputs": [
    {
     "data": {
      "text/plain": [
       "LinearRegression(copy_X=True, fit_intercept=True, n_jobs=None, normalize=False)"
      ]
     },
     "execution_count": 5,
     "metadata": {},
     "output_type": "execute_result"
    }
   ],
   "source": [
    "from sklearn.linear_model import LinearRegression\n",
    "\n",
    "model = LinearRegression()\n",
    "model"
   ]
  },
  {
   "cell_type": "code",
   "execution_count": 6,
   "metadata": {},
   "outputs": [
    {
     "data": {
      "text/plain": [
       "LinearRegression(copy_X=True, fit_intercept=True, n_jobs=None, normalize=False)"
      ]
     },
     "execution_count": 6,
     "metadata": {},
     "output_type": "execute_result"
    }
   ],
   "source": [
    "model.fit(X,y)"
   ]
  },
  {
   "cell_type": "code",
   "execution_count": 7,
   "metadata": {},
   "outputs": [
    {
     "name": "stdout",
     "output_type": "stream",
     "text": [
      "coefficients:  [[-0.01835799]]\n",
      "y-axis intercept:  [47.86727684]\n"
     ]
    }
   ],
   "source": [
    "print('coefficients: ', model.coef_)\n",
    "print('y-axis intercept: ', model.intercept_) "
   ]
  },
  {
   "cell_type": "code",
   "execution_count": 8,
   "metadata": {},
   "outputs": [
    {
     "data": {
      "text/plain": [
       "array([[10.78413416]])"
      ]
     },
     "execution_count": 8,
     "metadata": {},
     "output_type": "execute_result"
    }
   ],
   "source": [
    "y = (model.intercept_)+(model.coef_ * 2020)\n",
    "y"
   ]
  },
  {
   "cell_type": "code",
   "execution_count": 15,
   "metadata": {},
   "outputs": [
    {
     "data": {
      "text/html": [
       "<div>\n",
       "<style scoped>\n",
       "    .dataframe tbody tr th:only-of-type {\n",
       "        vertical-align: middle;\n",
       "    }\n",
       "\n",
       "    .dataframe tbody tr th {\n",
       "        vertical-align: top;\n",
       "    }\n",
       "\n",
       "    .dataframe thead th {\n",
       "        text-align: right;\n",
       "    }\n",
       "</style>\n",
       "<table border=\"1\" class=\"dataframe\">\n",
       "  <thead>\n",
       "    <tr style=\"text-align: right;\">\n",
       "      <th></th>\n",
       "      <th>Unnamed: 0</th>\n",
       "      <th>year</th>\n",
       "      <th>Country</th>\n",
       "      <th>Births_per_1000_People</th>\n",
       "      <th>Population</th>\n",
       "      <th>Total_Number_of_Births</th>\n",
       "      <th>Deaths_per_1000_People</th>\n",
       "      <th>Total_Number_of_Deaths</th>\n",
       "    </tr>\n",
       "  </thead>\n",
       "  <tbody>\n",
       "    <tr>\n",
       "      <th>54</th>\n",
       "      <td>54</td>\n",
       "      <td>2004</td>\n",
       "      <td>Germany</td>\n",
       "      <td>8.703</td>\n",
       "      <td>81646474</td>\n",
       "      <td>710569.2632</td>\n",
       "      <td>10.329</td>\n",
       "      <td>843326.4299</td>\n",
       "    </tr>\n",
       "    <tr>\n",
       "      <th>55</th>\n",
       "      <td>55</td>\n",
       "      <td>2005</td>\n",
       "      <td>Germany</td>\n",
       "      <td>8.616</td>\n",
       "      <td>81602741</td>\n",
       "      <td>703089.2165</td>\n",
       "      <td>10.340</td>\n",
       "      <td>843772.3419</td>\n",
       "    </tr>\n",
       "    <tr>\n",
       "      <th>56</th>\n",
       "      <td>56</td>\n",
       "      <td>2006</td>\n",
       "      <td>Germany</td>\n",
       "      <td>8.530</td>\n",
       "      <td>81472226</td>\n",
       "      <td>694958.0878</td>\n",
       "      <td>10.350</td>\n",
       "      <td>843237.5391</td>\n",
       "    </tr>\n",
       "    <tr>\n",
       "      <th>57</th>\n",
       "      <td>57</td>\n",
       "      <td>2007</td>\n",
       "      <td>Germany</td>\n",
       "      <td>8.443</td>\n",
       "      <td>81277830</td>\n",
       "      <td>686228.7187</td>\n",
       "      <td>10.361</td>\n",
       "      <td>842119.5966</td>\n",
       "    </tr>\n",
       "    <tr>\n",
       "      <th>58</th>\n",
       "      <td>58</td>\n",
       "      <td>2008</td>\n",
       "      <td>Germany</td>\n",
       "      <td>8.356</td>\n",
       "      <td>81065752</td>\n",
       "      <td>677385.4237</td>\n",
       "      <td>10.372</td>\n",
       "      <td>840813.9797</td>\n",
       "    </tr>\n",
       "  </tbody>\n",
       "</table>\n",
       "</div>"
      ],
      "text/plain": [
       "    Unnamed: 0  year  Country  Births_per_1000_People  Population  \\\n",
       "54          54  2004  Germany                   8.703    81646474   \n",
       "55          55  2005  Germany                   8.616    81602741   \n",
       "56          56  2006  Germany                   8.530    81472226   \n",
       "57          57  2007  Germany                   8.443    81277830   \n",
       "58          58  2008  Germany                   8.356    81065752   \n",
       "\n",
       "    Total_Number_of_Births  Deaths_per_1000_People  Total_Number_of_Deaths  \n",
       "54             710569.2632                  10.329             843326.4299  \n",
       "55             703089.2165                  10.340             843772.3419  \n",
       "56             694958.0878                  10.350             843237.5391  \n",
       "57             686228.7187                  10.361             842119.5966  \n",
       "58             677385.4237                  10.372             840813.9797  "
      ]
     },
     "execution_count": 15,
     "metadata": {},
     "output_type": "execute_result"
    }
   ],
   "source": [
    "germany_clean = germany[germany[\"year\"] > 2003]\n",
    "germany_clean.head()"
   ]
  },
  {
   "cell_type": "code",
   "execution_count": 16,
   "metadata": {},
   "outputs": [],
   "source": [
    "X = germany_clean.year.values.reshape(-1, 1)\n",
    "y = germany_clean.Deaths_per_1000_People.values.reshape(-1, 1)"
   ]
  },
  {
   "cell_type": "code",
   "execution_count": 17,
   "metadata": {},
   "outputs": [
    {
     "data": {
      "text/plain": [
       "<matplotlib.collections.PathCollection at 0x2069a779048>"
      ]
     },
     "execution_count": 17,
     "metadata": {},
     "output_type": "execute_result"
    },
    {
     "data": {
      "image/png": "[encoded data removed]",
      "text/plain": [
       "<Figure size 432x288 with 1 Axes>"
      ]
     },
     "metadata": {
      "needs_background": "light"
     },
     "output_type": "display_data"
    }
   ],
   "source": [
    "plt.scatter(X,y)"
   ]
  },
  {
   "cell_type": "code",
   "execution_count": 18,
   "metadata": {},
   "outputs": [
    {
     "data": {
      "text/plain": [
       "LinearRegression(copy_X=True, fit_intercept=True, n_jobs=None, normalize=False)"
      ]
     },
     "execution_count": 18,
     "metadata": {},
     "output_type": "execute_result"
    }
   ],
   "source": [
    "model.fit(X,y)"
   ]
  },
  {
   "cell_type": "code",
   "execution_count": 19,
   "metadata": {},
   "outputs": [
    {
     "name": "stdout",
     "output_type": "stream",
     "text": [
      "coefficients:  [[0.07008088]]\n",
      "y-axis intercept:  [-130.22488235]\n"
     ]
    }
   ],
   "source": [
    "print('coefficients: ', model.coef_)\n",
    "print('y-axis intercept: ', model.intercept_) "
   ]
  },
  {
   "cell_type": "code",
   "execution_count": 20,
   "metadata": {},
   "outputs": [
    {
     "data": {
      "text/plain": [
       "array([[11.3385]])"
      ]
     },
     "execution_count": 20,
     "metadata": {},
     "output_type": "execute_result"
    }
   ],
   "source": [
    "y = (model.intercept_)+(model.coef_ * 2020)\n",
    "y"
   ]
  },
  {
   "cell_type": "code",
   "execution_count": null,
   "metadata": {},
   "outputs": [],
   "source": []
  }
 ],
 "metadata": {
  "kernelspec": {
   "display_name": "Python 3",
   "language": "python",
   "name": "python3"
  },
  "language_info": {
   "codemirror_mode": {
    "name": "ipython",
    "version": 3
   },
   "file_extension": ".py",
   "mimetype": "text/x-python",
   "name": "python",
   "nbconvert_exporter": "python",
   "pygments_lexer": "ipython3",
   "version": "3.6.9"
  }
 },
 "nbformat": 4,
 "nbformat_minor": 2
}
