{
 "cells": [
  {
   "cell_type": "code",
   "execution_count": 1,
   "metadata": {},
   "outputs": [],
   "source": [
    "import pandas as pd\n"
   ]
  },
  {
   "cell_type": "code",
   "execution_count": 2,
   "metadata": {},
   "outputs": [],
   "source": [
    "fileb=\"russiabirth.csv\"\n",
    "filep=\"russiapop.csv\"\n",
    "filed=\"russiadeath.csv\"\n",
    "\n",
    "\n",
    "birth=pd.read_csv(fileb)\n",
    "pop=pd.read_csv(filep)\n",
    "death=pd.read_csv(filed)"
   ]
  },
  {
   "cell_type": "code",
   "execution_count": 3,
   "metadata": {},
   "outputs": [
    {
     "data": {
      "text/html": [
       "<div>\n",
       "<style scoped>\n",
       "    .dataframe tbody tr th:only-of-type {\n",
       "        vertical-align: middle;\n",
       "    }\n",
       "\n",
       "    .dataframe tbody tr th {\n",
       "        vertical-align: top;\n",
       "    }\n",
       "\n",
       "    .dataframe thead th {\n",
       "        text-align: right;\n",
       "    }\n",
       "</style>\n",
       "<table border=\"1\" class=\"dataframe\">\n",
       "  <thead>\n",
       "    <tr style=\"text-align: right;\">\n",
       "      <th></th>\n",
       "      <th>date</th>\n",
       "      <th>Births per 1000 People</th>\n",
       "      <th>Population</th>\n",
       "      <th>Total Number of Births</th>\n",
       "      <th>Deaths per 1000 People</th>\n",
       "      <th>Total Number of Deaths</th>\n",
       "    </tr>\n",
       "  </thead>\n",
       "  <tbody>\n",
       "    <tr>\n",
       "      <td>0</td>\n",
       "      <td>12/31/50</td>\n",
       "      <td>27.646</td>\n",
       "      <td>102798657</td>\n",
       "      <td>2.841972e+06</td>\n",
       "      <td>12.260</td>\n",
       "      <td>1.260312e+06</td>\n",
       "    </tr>\n",
       "    <tr>\n",
       "      <td>1</td>\n",
       "      <td>12/31/51</td>\n",
       "      <td>27.403</td>\n",
       "      <td>104304693</td>\n",
       "      <td>2.858262e+06</td>\n",
       "      <td>11.839</td>\n",
       "      <td>1.234863e+06</td>\n",
       "    </tr>\n",
       "    <tr>\n",
       "      <td>2</td>\n",
       "      <td>12/31/52</td>\n",
       "      <td>27.161</td>\n",
       "      <td>105967080</td>\n",
       "      <td>2.878172e+06</td>\n",
       "      <td>11.418</td>\n",
       "      <td>1.209932e+06</td>\n",
       "    </tr>\n",
       "    <tr>\n",
       "      <td>3</td>\n",
       "      <td>12/31/53</td>\n",
       "      <td>26.918</td>\n",
       "      <td>107727318</td>\n",
       "      <td>2.899804e+06</td>\n",
       "      <td>10.997</td>\n",
       "      <td>1.184677e+06</td>\n",
       "    </tr>\n",
       "    <tr>\n",
       "      <td>4</td>\n",
       "      <td>12/31/54</td>\n",
       "      <td>26.675</td>\n",
       "      <td>109536494</td>\n",
       "      <td>2.921886e+06</td>\n",
       "      <td>10.576</td>\n",
       "      <td>1.158458e+06</td>\n",
       "    </tr>\n",
       "  </tbody>\n",
       "</table>\n",
       "</div>"
      ],
      "text/plain": [
       "       date   Births per 1000 People   Population  Total Number of Births  \\\n",
       "0  12/31/50                   27.646    102798657            2.841972e+06   \n",
       "1  12/31/51                   27.403    104304693            2.858262e+06   \n",
       "2  12/31/52                   27.161    105967080            2.878172e+06   \n",
       "3  12/31/53                   26.918    107727318            2.899804e+06   \n",
       "4  12/31/54                   26.675    109536494            2.921886e+06   \n",
       "\n",
       "    Deaths per 1000 People  Total Number of Deaths  \n",
       "0                   12.260            1.260312e+06  \n",
       "1                   11.839            1.234863e+06  \n",
       "2                   11.418            1.209932e+06  \n",
       "3                   10.997            1.184677e+06  \n",
       "4                   10.576            1.158458e+06  "
      ]
     },
     "execution_count": 3,
     "metadata": {},
     "output_type": "execute_result"
    }
   ],
   "source": [
    "newbirth=birth.loc[0:69]\n",
    "pbirth=birth.loc[70:]\n",
    "newpop=pop.loc[0:69]\n",
    "ppop=pop.loc[70:]\n",
    "newdeath=death.loc[0:69]\n",
    "pdeath=death.loc[70:]\n",
    "newbirth=newbirth.drop(columns=[\" Annual % Change\"])\n",
    "newdeath=newdeath.drop(columns=[\" Annual % Change\"])\n",
    "newpop=newpop.drop(columns=[\" Annual % Change\"])\n",
    "bp=pd.merge(newbirth,newpop,how='left',on=\"date\")\n",
    "\n",
    "bp.head()\n",
    "\n",
    "bp[\"Total Number of Births\"]=((bp[\" Births per 1000 People\"]*bp[\" Population\"])/1000)\n",
    "\n",
    "bp.head()\n",
    "\n",
    "bpd=pd.merge(bp,newdeath,how='left',on='date')\n",
    "\n",
    "bpd.head()\n",
    "\n",
    "bpd[\"Total Number of Deaths\"]=((bpd[\" Deaths per 1000 People\"]*bpd[\" Population\"])/1000)\n",
    "bpd.head()"
   ]
  },
  {
   "cell_type": "code",
   "execution_count": 4,
   "metadata": {},
   "outputs": [],
   "source": [
    "complete_russia_df=bpd.to_json(\"Complete Russia DF\")"
   ]
  },
  {
   "cell_type": "code",
   "execution_count": null,
   "metadata": {},
   "outputs": [],
   "source": []
  }
 ],
 "metadata": {
  "kernelspec": {
   "display_name": "Python 3",
   "language": "python",
   "name": "python3"
  },
  "language_info": {
   "codemirror_mode": {
    "name": "ipython",
    "version": 3
   },
   "file_extension": ".py",
   "mimetype": "text/x-python",
   "name": "python",
   "nbconvert_exporter": "python",
   "pygments_lexer": "ipython3",
   "version": "3.7.4"
  }
 },
 "nbformat": 4,
 "nbformat_minor": 2
}
